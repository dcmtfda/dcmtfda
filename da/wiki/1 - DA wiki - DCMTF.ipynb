{
 "cells": [
  {
   "cell_type": "code",
   "execution_count": 1,
   "metadata": {},
   "outputs": [],
   "source": [
    "import numpy as np\n",
    "import pickle as pkl\n",
    "import torch\n",
    "from scipy.spatial.distance import cosine, euclidean\n",
    "import pandas as pd\n",
    "import pprint as pp"
   ]
  },
  {
   "cell_type": "code",
   "execution_count": 2,
   "metadata": {},
   "outputs": [],
   "source": [
    "#import seaborn as sns\n",
    "import matplotlib.pyplot as plt"
   ]
  },
  {
   "cell_type": "code",
   "execution_count": 3,
   "metadata": {},
   "outputs": [],
   "source": [
    "from sklearn.preprocessing import StandardScaler"
   ]
  },
  {
   "cell_type": "code",
   "execution_count": 4,
   "metadata": {},
   "outputs": [],
   "source": [
    "%matplotlib inline"
   ]
  },
  {
   "cell_type": "code",
   "execution_count": 5,
   "metadata": {},
   "outputs": [],
   "source": [
    "import bz2\n",
    "import _pickle as cPickle\n",
    "\n",
    "# Load any compressed pickle file\n",
    "def decompress_pickle(file):\n",
    "    assert file.endswith(\"pbz2\")\n",
    "    data = bz2.BZ2File(file, \"rb\")\n",
    "    data = cPickle.load(data,encoding=\"latin1\")\n",
    "    return data"
   ]
  },
  {
   "cell_type": "code",
   "execution_count": 6,
   "metadata": {},
   "outputs": [],
   "source": [
    "#data"
   ]
  },
  {
   "cell_type": "code",
   "execution_count": 7,
   "metadata": {},
   "outputs": [],
   "source": [
    "run_no = \"1\""
   ]
  },
  {
   "cell_type": "code",
   "execution_count": 8,
   "metadata": {},
   "outputs": [],
   "source": [
    "is_abs_A = False"
   ]
  },
  {
   "cell_type": "code",
   "execution_count": 9,
   "metadata": {},
   "outputs": [],
   "source": [
    "cc_start_entity = \"t\" # s, t"
   ]
  },
  {
   "cell_type": "code",
   "execution_count": 10,
   "metadata": {},
   "outputs": [],
   "source": [
    "dname_data = \"./../../data/wiki\"+run_no+\"/\""
   ]
  },
  {
   "cell_type": "code",
   "execution_count": 11,
   "metadata": {},
   "outputs": [],
   "source": [
    "fname_data = dname_data+\"dict_data_item_subj_v4_hidden_run\"+run_no+\".pkl.p2.pbz2\""
   ]
  },
  {
   "cell_type": "code",
   "execution_count": 12,
   "metadata": {},
   "outputs": [],
   "source": [
    "#data_dict = pkl.load(open(fname_data,\"rb\"))\n",
    "data_dict = decompress_pickle(fname_data)"
   ]
  },
  {
   "cell_type": "code",
   "execution_count": 13,
   "metadata": {},
   "outputs": [],
   "source": [
    "X_ts = data_dict[\"data_hidden\"]['X_item_subj']\n",
    "X_sb = data_dict[\"data_hidden\"]['X_subj_bow']\n",
    "X_tb = data_dict[\"data_hidden\"]['X_item_bow']\n",
    "    \n",
    "X_bs = X_sb.T\n",
    "X_bt = X_tb.T\n",
    "X_st = X_ts.T"
   ]
  },
  {
   "cell_type": "code",
   "execution_count": 14,
   "metadata": {},
   "outputs": [],
   "source": [
    "dict_map_wiki_e = {}\n",
    "dict_map_wiki_e[\"p\"] = \"b\"\n",
    "dict_map_wiki_e[\"r\"] = \"s\"\n",
    "dict_map_wiki_e[\"d\"] = \"t\"\n",
    "\n",
    "dict_map_wiki_x = {}\n",
    "dict_map_wiki_x[\"X_pr\"] = \"X_bs\"\n",
    "dict_map_wiki_x[\"X_pd\"] = \"X_bt\"\n",
    "dict_map_wiki_x[\"X_rd\"] = \"X_st\""
   ]
  },
  {
   "cell_type": "code",
   "execution_count": 15,
   "metadata": {},
   "outputs": [],
   "source": [
    "G = {\n",
    "    \"b\":[\"X_bs\",\"X_bt\"],\\\n",
    "    \"s\":[\"X_bs\",\"X_st\"],\\\n",
    "    \"t\":[\"X_st\",\"X_bt\"]}\n",
    "\n",
    "X_data = {\n",
    "    \"X_bs\":X_bs, \\\n",
    "    \"X_bt\":X_bt, \\\n",
    "    \"X_st\":X_st\n",
    "    }\n",
    "\n",
    "X_meta = {\n",
    "    \"X_bs\":[\"b\",\"s\"],\n",
    "    \"X_bt\":[\"b\",\"t\"],\n",
    "    \"X_st\":[\"s\",\"t\"]}\n",
    "\n",
    "X_dtype = {\n",
    "    \"X_bs\":\"real\", \\\n",
    "    \"X_bt\":\"real\", \\\n",
    "    \"X_st\":\"real\"\n",
    "}\n",
    "    \n",
    "dict_num_clusters = {\"b\":3,\"s\":3,\"t\":3}"
   ]
  },
  {
   "cell_type": "code",
   "execution_count": 16,
   "metadata": {},
   "outputs": [],
   "source": [
    "#out"
   ]
  },
  {
   "cell_type": "code",
   "execution_count": 17,
   "metadata": {},
   "outputs": [],
   "source": [
    "dname_out = \"./../../out_clust/wiki\"+run_no+\"/version_2/\""
   ]
  },
  {
   "cell_type": "code",
   "execution_count": 18,
   "metadata": {},
   "outputs": [],
   "source": [
    "fname_clust_labels = dname_out+\"dict_c_clust_labels.pkl\"\n",
    "fname_A = dname_out+\"dict_A.pkl\"\n",
    "fname_X_prime = dname_out+\"dict_recons_X.pkl\"\n",
    "fname_Y_prime = dname_out+\"dict_recons_Y.pkl\"\n",
    "fname_I_ortho = dname_out+\"dict_I_ortho.pkl\"\n",
    "fname_U = dname_out+\"dict_U.pkl\"\n",
    "fname_mu = dname_out+\"dict_mu.pkl\""
   ]
  },
  {
   "cell_type": "code",
   "execution_count": 19,
   "metadata": {},
   "outputs": [],
   "source": [
    "dict_clust_labels = pkl.load(open(fname_clust_labels,\"rb\"))\n",
    "dict_A = pkl.load(open(fname_A,\"rb\"))\n",
    "dict_X_prime = pkl.load(open(fname_X_prime,\"rb\"))\n",
    "dict_Y_prime = pkl.load(open(fname_Y_prime,\"rb\"))\n",
    "dict_I_ortho = pkl.load(open(fname_I_ortho,\"rb\"))\n",
    "dict_U = pkl.load(open(fname_U,\"rb\"))\n",
    "dict_mu = pkl.load(open(fname_mu,\"rb\"))"
   ]
  },
  {
   "cell_type": "code",
   "execution_count": 20,
   "metadata": {},
   "outputs": [],
   "source": [
    "#sanity check - start"
   ]
  },
  {
   "cell_type": "code",
   "execution_count": 21,
   "metadata": {},
   "outputs": [
    {
     "data": {
      "text/plain": [
       "dict_keys(['X_ts', 'X_tb', 'X_sb'])"
      ]
     },
     "execution_count": 21,
     "metadata": {},
     "output_type": "execute_result"
    }
   ],
   "source": [
    "dict_A.keys()"
   ]
  },
  {
   "cell_type": "code",
   "execution_count": 22,
   "metadata": {},
   "outputs": [
    {
     "data": {
      "text/plain": [
       "array([[ 5.7952213 , -4.0037937 , -6.3939776 ],\n",
       "       [-3.9246604 , -1.0156132 ,  0.764707  ],\n",
       "       [-0.86962116,  7.875843  ,  7.9190187 ]], dtype=float32)"
      ]
     },
     "execution_count": 22,
     "metadata": {},
     "output_type": "execute_result"
    }
   ],
   "source": [
    "dict_A[\"X_ts\"]"
   ]
  },
  {
   "cell_type": "code",
   "execution_count": 23,
   "metadata": {},
   "outputs": [
    {
     "data": {
      "text/plain": [
       "array([[ 6., -4., -6.],\n",
       "       [-4., -1.,  1.],\n",
       "       [-1.,  8.,  8.]], dtype=float32)"
      ]
     },
     "execution_count": 23,
     "metadata": {},
     "output_type": "execute_result"
    }
   ],
   "source": [
    "np.round(dict_A[\"X_ts\"])"
   ]
  },
  {
   "cell_type": "code",
   "execution_count": 24,
   "metadata": {},
   "outputs": [
    {
     "data": {
      "text/plain": [
       "array([[0., 1., 0.],\n",
       "       [0., 0., 1.],\n",
       "       [1., 0., 0.]])"
      ]
     },
     "execution_count": 24,
     "metadata": {},
     "output_type": "execute_result"
    }
   ],
   "source": [
    "A_sr = np.abs(dict_A[\"X_ts\"].T)\n",
    "scaler1 = StandardScaler()\n",
    "A_sr = scaler1.fit_transform(A_sr)\n",
    "A_temp = np.zeros(A_sr.shape)\n",
    "for i in np.arange(A_temp.shape[0]):\n",
    "    j = np.argmax(A_sr[i,:])\n",
    "    A_temp[i,j] = 1\n",
    "A_temp    "
   ]
  },
  {
   "cell_type": "code",
   "execution_count": 25,
   "metadata": {},
   "outputs": [
    {
     "data": {
      "text/plain": [
       "array([[ 1.,  0.,  0.],\n",
       "       [ 0.,  1., -0.],\n",
       "       [ 0., -0.,  1.]], dtype=float32)"
      ]
     },
     "execution_count": 25,
     "metadata": {},
     "output_type": "execute_result"
    }
   ],
   "source": [
    "np.round(np.dot(dict_I_ortho[\"t\"].T, dict_I_ortho[\"t\"]))"
   ]
  },
  {
   "cell_type": "code",
   "execution_count": 26,
   "metadata": {},
   "outputs": [],
   "source": [
    "#sanity check - end"
   ]
  },
  {
   "cell_type": "code",
   "execution_count": 27,
   "metadata": {},
   "outputs": [
    {
     "data": {
      "text/plain": [
       "{'b': array([0, 2, 0, ..., 2, 2, 0], dtype=int32),\n",
       " 's': array([1, 1, 0, ..., 1, 1, 1], dtype=int32),\n",
       " 't': array([1, 1, 1, ..., 1, 1, 1], dtype=int32)}"
      ]
     },
     "execution_count": 27,
     "metadata": {},
     "output_type": "execute_result"
    }
   ],
   "source": [
    "dict_clust_labels"
   ]
  },
  {
   "cell_type": "code",
   "execution_count": 28,
   "metadata": {},
   "outputs": [],
   "source": [
    "def get_cluster_num_idx(dict_clust_labels,e_id,num_clusters):\n",
    "    p_clust_id_list = dict_clust_labels[e_id]\n",
    "#     p_clust_id_list = []\n",
    "#     for i in np.arange(U.shape[0]):\n",
    "#         temp_arr = U[i]\n",
    "#         p_clust_id_list.append(np.argmax(temp_arr))\n",
    "    #\n",
    "    p_clust_id_num_dict = {}\n",
    "    p_clust_id_idx_dict = {}\n",
    "    for j in np.arange(num_clusters[e_id]):\n",
    "        temp_clust_j = np.array(p_clust_id_list) == j\n",
    "        temp_clust_j_idx = np.arange(p_clust_id_list.shape[0])[temp_clust_j]\n",
    "        num_p = np.sum(temp_clust_j)\n",
    "        print(\"cluster: \",j,\", #\", num_p)\n",
    "        p_clust_id_num_dict[j] = num_p\n",
    "        p_clust_id_idx_dict[j] = temp_clust_j_idx     \n",
    "    return p_clust_id_num_dict, p_clust_id_idx_dict,p_clust_id_list"
   ]
  },
  {
   "cell_type": "code",
   "execution_count": 29,
   "metadata": {},
   "outputs": [
    {
     "name": "stdout",
     "output_type": "stream",
     "text": [
      "e_id:  b\n",
      "cluster:  0 , # 1481\n",
      "cluster:  1 , # 1445\n",
      "cluster:  2 , # 957\n",
      "e_id:  s\n",
      "cluster:  0 , # 232\n",
      "cluster:  1 , # 564\n",
      "cluster:  2 , # 320\n",
      "e_id:  t\n",
      "cluster:  0 , # 559\n",
      "cluster:  1 , # 983\n",
      "cluster:  2 , # 258\n"
     ]
    }
   ],
   "source": [
    "dict_entity_cluster_info = {}\n",
    "for e_id in G.keys():\n",
    "    print(\"e_id: \",e_id)\n",
    "    temp_num, temp_idx, temp_pred_idx = get_cluster_num_idx(dict_clust_labels,e_id,dict_num_clusters)\n",
    "    dict_entity_cluster_info[e_id] = {\"num\":temp_num,\"idx\":temp_idx,\"temp_pred_idx\":temp_pred_idx}"
   ]
  },
  {
   "cell_type": "code",
   "execution_count": 30,
   "metadata": {},
   "outputs": [
    {
     "data": {
      "text/plain": [
       "{'X_sb': array([[ 88.58934  ,   4.637163 ,  30.972359 ],\n",
       "        [-54.74947  , -53.494663 , -45.806633 ],\n",
       "        [ -2.7461557,  67.07067  ,  34.440502 ]], dtype=float32),\n",
       " 'X_tb': array([[ 81.1142   ,   4.1865892,   2.381117 ],\n",
       "        [-62.82621  , -48.703434 ,   3.6773312],\n",
       "        [  3.2362955,  88.90382  , -10.682833 ]], dtype=float32),\n",
       " 'X_ts': array([[ 5.7952213 , -4.0037937 , -6.3939776 ],\n",
       "        [-3.9246604 , -1.0156132 ,  0.764707  ],\n",
       "        [-0.86962116,  7.875843  ,  7.9190187 ]], dtype=float32)}"
      ]
     },
     "execution_count": 30,
     "metadata": {},
     "output_type": "execute_result"
    }
   ],
   "source": [
    "dict_A"
   ]
  },
  {
   "cell_type": "code",
   "execution_count": 31,
   "metadata": {},
   "outputs": [],
   "source": [
    "# dict_p_cluster_asso_chain"
   ]
  },
  {
   "cell_type": "code",
   "execution_count": 32,
   "metadata": {},
   "outputs": [],
   "source": [
    "#try 2"
   ]
  },
  {
   "cell_type": "code",
   "execution_count": 33,
   "metadata": {},
   "outputs": [
    {
     "data": {
      "text/plain": [
       "dict_keys(['X_ts', 'X_tb', 'X_sb'])"
      ]
     },
     "execution_count": 33,
     "metadata": {},
     "output_type": "execute_result"
    }
   ],
   "source": [
    "dict_A.keys()"
   ]
  },
  {
   "cell_type": "code",
   "execution_count": 34,
   "metadata": {},
   "outputs": [],
   "source": [
    "num_clusters = dict_num_clusters\n",
    "\n",
    "dict_t_clust_num = dict_entity_cluster_info[\"t\"][\"num\"]\n",
    "dict_s_clust_num = dict_entity_cluster_info[\"s\"][\"num\"]\n",
    "dict_b_clust_num = dict_entity_cluster_info[\"b\"][\"num\"]\n",
    "#\n",
    "dict_cc1 = {}\n",
    "for t_clust_id in np.arange(num_clusters[\"t\"]):\n",
    "    if dict_t_clust_num[t_clust_id] > 0:\n",
    "        #ts\n",
    "        if is_abs_A:\n",
    "            A_ts_temp = dict_A[\"X_ts\"]\n",
    "            scaler1 = StandardScaler()\n",
    "            A_ts_temp = np.abs(scaler1.fit_transform(A_ts_temp))\n",
    "        else:\n",
    "            A_ts_temp = dict_A[\"X_ts\"]\n",
    "            scaler1 = StandardScaler()\n",
    "            A_ts_temp = scaler1.fit_transform(A_ts_temp)\n",
    "        s_clust_id_list = list(np.argsort(A_ts_temp[t_clust_id,:]))\n",
    "        s_clust_id_list.reverse()\n",
    "        for temp_s_id in s_clust_id_list:\n",
    "            if dict_s_clust_num[temp_s_id] > 0:\n",
    "                s_clust_id = temp_s_id\n",
    "                break\n",
    "    dict_cc1[t_clust_id] = {\"t\":t_clust_id, \"s\":s_clust_id}\n",
    "\n",
    "dict_cc2 = {}\n",
    "for t_clust_id in np.arange(num_clusters[\"t\"]):\n",
    "    if dict_t_clust_num[t_clust_id] > 0:\n",
    "        #tb\n",
    "        if is_abs_A:\n",
    "            A_tb_temp = dict_A[\"X_tb\"]\n",
    "            scaler1 = StandardScaler()\n",
    "            A_tb_temp = np.abs(scaler1.fit_transform(A_tb_temp))\n",
    "        else:\n",
    "            A_tb_temp = dict_A[\"X_tb\"]\n",
    "            scaler1 = StandardScaler()\n",
    "            A_tb_temp = scaler1.fit_transform(A_tb_temp)        \n",
    "        b_clust_id_list = list(np.argsort(A_tb_temp[t_clust_id,:]))\n",
    "        b_clust_id_list.reverse()\n",
    "        for temp_b_id in b_clust_id_list:\n",
    "            if dict_b_clust_num[temp_b_id] > 0:\n",
    "                b_clust_id = temp_b_id\n",
    "                break        \n",
    "        #bs\n",
    "        if is_abs_A:\n",
    "            A_bs_temp = dict_A[\"X_sb\"].T\n",
    "            scaler1 = StandardScaler()\n",
    "            A_bs_temp = np.abs(scaler1.fit_transform(A_bs_temp))\n",
    "        else:\n",
    "            A_bs_temp = dict_A[\"X_sb\"].T\n",
    "            scaler1 = StandardScaler()\n",
    "            A_bs_temp = scaler1.fit_transform(A_bs_temp)        \n",
    "        s_clust_id_list = list(np.argsort(A_bs_temp[b_clust_id,:]))\n",
    "        s_clust_id_list.reverse()\n",
    "        for temp_s_id in s_clust_id_list:\n",
    "            if dict_s_clust_num[temp_s_id] > 0:\n",
    "                s_clust_id = temp_s_id\n",
    "                break\n",
    "    dict_cc2[t_clust_id] = {\"t\":t_clust_id,\"b\":b_clust_id, \"s\":s_clust_id}        "
   ]
  },
  {
   "cell_type": "code",
   "execution_count": 35,
   "metadata": {},
   "outputs": [
    {
     "data": {
      "text/plain": [
       "{0: {'s': 0, 't': 0}, 1: {'s': 2, 't': 1}, 2: {'s': 1, 't': 2}}"
      ]
     },
     "execution_count": 35,
     "metadata": {},
     "output_type": "execute_result"
    }
   ],
   "source": [
    "dict_cc1"
   ]
  },
  {
   "cell_type": "code",
   "execution_count": 36,
   "metadata": {},
   "outputs": [
    {
     "data": {
      "text/plain": [
       "{0: {'b': 0, 's': 0, 't': 0},\n",
       " 1: {'b': 2, 's': 1, 't': 1},\n",
       " 2: {'b': 1, 's': 2, 't': 2}}"
      ]
     },
     "execution_count": 36,
     "metadata": {},
     "output_type": "execute_result"
    }
   ],
   "source": [
    "dict_cc2"
   ]
  },
  {
   "cell_type": "code",
   "execution_count": 37,
   "metadata": {},
   "outputs": [],
   "source": [
    "# for temp in dict_cc1.keys():\n",
    "#     dict_cc1[temp].update(dict_cc2[temp])"
   ]
  },
  {
   "cell_type": "code",
   "execution_count": 38,
   "metadata": {},
   "outputs": [],
   "source": [
    "# dict_temp_cc1 = dict_cc1"
   ]
  },
  {
   "cell_type": "code",
   "execution_count": 39,
   "metadata": {},
   "outputs": [
    {
     "name": "stdout",
     "output_type": "stream",
     "text": [
      "cur_t:  0 , cur_s:  0 , cur_b:  0\n",
      "cur_t:  1 , cur_s:  2 , cur_b:  2\n",
      "cur_t:  2 , cur_s:  1 , cur_b:  1\n"
     ]
    }
   ],
   "source": [
    "dict_temp_cc_t = {}\n",
    "for temp_key in dict_cc1.keys():\n",
    "    temp = {}\n",
    "    cur_t = dict_cc1[temp_key][\"t\"]\n",
    "    cur_s = dict_cc1[temp_key][\"s\"]\n",
    "    temp[\"t\"] = cur_t\n",
    "    temp[\"s\"] = cur_s\n",
    "    for temp_key_2 in dict_cc2.keys():\n",
    "        if cur_t == dict_cc2[temp_key_2][\"t\"]:\n",
    "            cur_b = dict_cc2[temp_key_2][\"b\"]\n",
    "            print(\"cur_t: \",cur_t,\", cur_s: \",cur_s,\", cur_b: \",cur_b)\n",
    "            temp[\"b\"] = cur_b\n",
    "            dict_temp_cc_t[temp_key] = temp"
   ]
  },
  {
   "cell_type": "code",
   "execution_count": 40,
   "metadata": {},
   "outputs": [
    {
     "data": {
      "text/plain": [
       "{0: {'b': 0, 's': 0, 't': 0},\n",
       " 1: {'b': 2, 's': 2, 't': 1},\n",
       " 2: {'b': 1, 's': 1, 't': 2}}"
      ]
     },
     "execution_count": 40,
     "metadata": {},
     "output_type": "execute_result"
    }
   ],
   "source": [
    "dict_temp_cc_t"
   ]
  },
  {
   "cell_type": "code",
   "execution_count": 41,
   "metadata": {},
   "outputs": [
    {
     "data": {
      "text/plain": [
       "dict_keys(['X_ts', 'X_tb', 'X_sb'])"
      ]
     },
     "execution_count": 41,
     "metadata": {},
     "output_type": "execute_result"
    }
   ],
   "source": [
    "dict_A.keys()"
   ]
  },
  {
   "cell_type": "code",
   "execution_count": 42,
   "metadata": {},
   "outputs": [],
   "source": [
    "num_clusters = dict_num_clusters\n",
    "\n",
    "dict_t_clust_num = dict_entity_cluster_info[\"t\"][\"num\"]\n",
    "dict_s_clust_num = dict_entity_cluster_info[\"s\"][\"num\"]\n",
    "dict_b_clust_num = dict_entity_cluster_info[\"b\"][\"num\"]\n",
    "#\n",
    "dict_cc3 = {}\n",
    "for s_clust_id in np.arange(num_clusters[\"s\"]):\n",
    "    if dict_s_clust_num[s_clust_id] > 0:\n",
    "        #st\n",
    "        if is_abs_A:\n",
    "            A_st_temp = dict_A[\"X_ts\"].T\n",
    "            scaler1 = StandardScaler()\n",
    "            A_st_temp = np.abs(scaler1.fit_transform(A_st_temp))\n",
    "        else:\n",
    "            A_st_temp = dict_A[\"X_ts\"].T\n",
    "            scaler1 = StandardScaler()\n",
    "            A_st_temp = scaler1.fit_transform(A_st_temp)\n",
    "        t_clust_id_list = list(np.argsort(A_st_temp[s_clust_id,:]))\n",
    "        t_clust_id_list.reverse()\n",
    "        for temp_t_id in t_clust_id_list:\n",
    "            if dict_t_clust_num[temp_t_id] > 0:\n",
    "                t_clust_id = temp_t_id\n",
    "                break\n",
    "    dict_cc3[s_clust_id] = {\"s\":s_clust_id, \"t\":t_clust_id}\n",
    "\n",
    "dict_cc4 = {}\n",
    "for s_clust_id in np.arange(num_clusters[\"s\"]):\n",
    "    if dict_s_clust_num[s_clust_id] > 0:\n",
    "        #sb\n",
    "        if is_abs_A:\n",
    "            A_sb_temp = dict_A[\"X_sb\"]\n",
    "            scaler1 = StandardScaler()\n",
    "            A_sb_temp = np.abs(scaler1.fit_transform(A_sb_temp))\n",
    "        else:\n",
    "            A_sb_temp = dict_A[\"X_sb\"]\n",
    "            scaler1 = StandardScaler()\n",
    "            A_sb_temp = scaler1.fit_transform(A_sb_temp)        \n",
    "        b_clust_id_list = list(np.argsort(A_sb_temp[s_clust_id,:]))\n",
    "        b_clust_id_list.reverse()\n",
    "        for temp_b_id in b_clust_id_list:\n",
    "            if dict_b_clust_num[temp_b_id] > 0:\n",
    "                b_clust_id = temp_b_id\n",
    "                break\n",
    "        #bt\n",
    "        if is_abs_A:\n",
    "            A_bt_temp = dict_A[\"X_tb\"].T\n",
    "            scaler1 = StandardScaler()\n",
    "            A_bt_temp = np.abs(scaler1.fit_transform(A_bt_temp))\n",
    "        else:\n",
    "            A_bt_temp = dict_A[\"X_tb\"].T\n",
    "            scaler1 = StandardScaler()\n",
    "            A_bt_temp = scaler1.fit_transform(A_bt_temp)        \n",
    "        t_clust_id_list = list(np.argsort(A_bt_temp[b_clust_id,:]))\n",
    "        t_clust_id_list.reverse()\n",
    "        for temp_t_id in t_clust_id_list:\n",
    "            if dict_t_clust_num[temp_t_id] > 0:\n",
    "                t_clust_id = temp_t_id\n",
    "                break                 \n",
    "    dict_cc4[s_clust_id] = {\"t\":t_clust_id, \"b\":b_clust_id, \"s\":s_clust_id}        "
   ]
  },
  {
   "cell_type": "code",
   "execution_count": 43,
   "metadata": {},
   "outputs": [
    {
     "data": {
      "text/plain": [
       "{0: {'s': 0, 't': 0}, 1: {'s': 1, 't': 2}, 2: {'s': 2, 't': 1}}"
      ]
     },
     "execution_count": 43,
     "metadata": {},
     "output_type": "execute_result"
    }
   ],
   "source": [
    "dict_cc3"
   ]
  },
  {
   "cell_type": "code",
   "execution_count": 44,
   "metadata": {},
   "outputs": [
    {
     "data": {
      "text/plain": [
       "{0: {'b': 0, 's': 0, 't': 0},\n",
       " 1: {'b': 0, 's': 1, 't': 0},\n",
       " 2: {'b': 1, 's': 2, 't': 2}}"
      ]
     },
     "execution_count": 44,
     "metadata": {},
     "output_type": "execute_result"
    }
   ],
   "source": [
    "dict_cc4"
   ]
  },
  {
   "cell_type": "code",
   "execution_count": 45,
   "metadata": {},
   "outputs": [],
   "source": [
    "# for temp in dict_cc3.keys():\n",
    "#     dict_cc3[temp].update(dict_cc4[temp])"
   ]
  },
  {
   "cell_type": "code",
   "execution_count": 46,
   "metadata": {},
   "outputs": [],
   "source": [
    "dict_temp_cc_s = {}\n",
    "for temp_key in dict_cc3.keys():\n",
    "    temp = {}\n",
    "    cur_t = dict_cc3[temp_key][\"t\"]\n",
    "    cur_s = dict_cc3[temp_key][\"s\"]\n",
    "    temp[\"t\"] = cur_t\n",
    "    temp[\"s\"] = cur_s\n",
    "    for temp_key_2 in dict_cc4.keys():\n",
    "        if cur_s == dict_cc4[temp_key_2][\"s\"]:\n",
    "            cur_b = dict_cc4[temp_key_2][\"b\"]\n",
    "            temp[\"b\"] = cur_b\n",
    "            dict_temp_cc_s[temp_key] = temp"
   ]
  },
  {
   "cell_type": "code",
   "execution_count": 47,
   "metadata": {},
   "outputs": [
    {
     "data": {
      "text/plain": [
       "{0: {'b': 0, 's': 0, 't': 0},\n",
       " 1: {'b': 0, 's': 1, 't': 2},\n",
       " 2: {'b': 1, 's': 2, 't': 1}}"
      ]
     },
     "execution_count": 47,
     "metadata": {},
     "output_type": "execute_result"
    }
   ],
   "source": [
    "dict_temp_cc_s"
   ]
  },
  {
   "cell_type": "code",
   "execution_count": 48,
   "metadata": {},
   "outputs": [
    {
     "data": {
      "text/plain": [
       "{0: {'b': 0, 's': 0, 't': 0},\n",
       " 1: {'b': 2, 's': 2, 't': 1},\n",
       " 2: {'b': 1, 's': 1, 't': 2}}"
      ]
     },
     "execution_count": 48,
     "metadata": {},
     "output_type": "execute_result"
    }
   ],
   "source": [
    "dict_temp_cc_t"
   ]
  },
  {
   "cell_type": "code",
   "execution_count": 49,
   "metadata": {},
   "outputs": [],
   "source": [
    "# dict_temp_cc = {}\n",
    "# count = 0\n",
    "# for temp_key in dict_temp_cc1.keys():\n",
    "#     dict_temp_cc[count] = dict_temp_cc1[temp_key]\n",
    "#     count+=1\n",
    "# for temp_key in dict_temp_cc2.keys():\n",
    "#     dict_temp_cc[count] = dict_temp_cc2[temp_key]\n",
    "#     count+=1    "
   ]
  },
  {
   "cell_type": "code",
   "execution_count": 50,
   "metadata": {},
   "outputs": [],
   "source": [
    "if cc_start_entity == \"s\":\n",
    "    dict_temp_cc = dict_temp_cc_s\n",
    "elif cc_start_entity == \"t\":    \n",
    "    dict_temp_cc = dict_temp_cc_t\n",
    "else:\n",
    "    assert False"
   ]
  },
  {
   "cell_type": "code",
   "execution_count": 51,
   "metadata": {},
   "outputs": [],
   "source": [
    "dict_cluster_asso_chain = dict_temp_cc"
   ]
  },
  {
   "cell_type": "code",
   "execution_count": 52,
   "metadata": {},
   "outputs": [
    {
     "data": {
      "text/plain": [
       "{0: {'b': 0, 's': 0, 't': 0},\n",
       " 1: {'b': 2, 's': 2, 't': 1},\n",
       " 2: {'b': 1, 's': 1, 't': 2}}"
      ]
     },
     "execution_count": 52,
     "metadata": {},
     "output_type": "execute_result"
    }
   ],
   "source": [
    "dict_cluster_asso_chain"
   ]
  },
  {
   "cell_type": "code",
   "execution_count": 53,
   "metadata": {},
   "outputs": [],
   "source": [
    "#try 2"
   ]
  },
  {
   "cell_type": "code",
   "execution_count": 54,
   "metadata": {},
   "outputs": [],
   "source": [
    "from sklearn.metrics.pairwise import cosine_distances, cosine_similarity"
   ]
  },
  {
   "cell_type": "code",
   "execution_count": 55,
   "metadata": {},
   "outputs": [],
   "source": [
    "def get_dist(X1, X2):\n",
    "    d_list = np.diag(cosine_distances(X1,X2))\n",
    "    #d = np.sqrt(np.sum(np.round(d_list,4)))\n",
    "    d = np.mean(np.round(d_list,4))\n",
    "    return d "
   ]
  },
  {
   "cell_type": "code",
   "execution_count": 56,
   "metadata": {},
   "outputs": [],
   "source": [
    "def get_dist_subspace(X1, X2, k, is_X1_orth=False, is_X2_orth=False):\n",
    "    k1 = X1.shape[1]\n",
    "    k2 = X2.shape[1]\n",
    "    k = min(k1,k2)\n",
    "    print(\"k1: \",k1,\", k2: \",k2,\", min(k1,k2): \",k)\n",
    "    #\n",
    "    if not is_X1_orth:\n",
    "        u, s, vh = np.linalg.svd(X1)\n",
    "        X1_tilde = u[:,0:k]\n",
    "    if not is_X2_orth:\n",
    "        u, s, vh = np.linalg.svd(X2)\n",
    "        X2_tilde = u[:,0:k]\n",
    "    #\n",
    "    M = np.dot(X1_tilde.T, X2_tilde)\n",
    "    #print(\"M.shape: \",M.shape)\n",
    "    u, s, vh = np.linalg.svd(M)\n",
    "    d = np.sqrt(np.sum(1 - np.round(pow(s,2),4)))\n",
    "    #d = np.mean(1 - np.round(pow(s,2),2))\n",
    "    return d    "
   ]
  },
  {
   "cell_type": "code",
   "execution_count": 57,
   "metadata": {},
   "outputs": [
    {
     "data": {
      "text/plain": [
       "dict_keys(['t_X_ts', 't_X_tb', 's_X_ts', 's_X_sb', 'b_X_tb', 'b_X_sb'])"
      ]
     },
     "execution_count": 57,
     "metadata": {},
     "output_type": "execute_result"
    }
   ],
   "source": [
    "dict_mu.keys()"
   ]
  },
  {
   "cell_type": "code",
   "execution_count": 58,
   "metadata": {},
   "outputs": [
    {
     "data": {
      "text/plain": [
       "dict_keys(['t_X_ts', 't_X_tb', 's_X_ts', 's_X_sb', 'b_X_tb', 'b_X_sb'])"
      ]
     },
     "execution_count": 58,
     "metadata": {},
     "output_type": "execute_result"
    }
   ],
   "source": [
    "dict_mu.keys()"
   ]
  },
  {
   "cell_type": "code",
   "execution_count": 59,
   "metadata": {},
   "outputs": [],
   "source": [
    "mu_tb = dict_mu[\"t_X_tb\"]\n",
    "mu_sb = dict_mu[\"s_X_sb\"]"
   ]
  },
  {
   "cell_type": "code",
   "execution_count": 60,
   "metadata": {},
   "outputs": [],
   "source": [
    "#X_rd = X_rd\n",
    "X_st = X_st\n",
    "X_ts = X_st.T\n",
    "#X_pr = X_pr\n",
    "X_bs = X_bs\n",
    "X_sb = X_bs.T\n",
    "#X_pd = X_pd\n",
    "X_bt = X_bt\n",
    "X_tb = X_bt.T"
   ]
  },
  {
   "cell_type": "code",
   "execution_count": 61,
   "metadata": {},
   "outputs": [
    {
     "data": {
      "text/plain": [
       "dict_keys(['t_X_ts', 't_X_tb', 's_X_ts', 's_X_sb', 'b_X_tb', 'b_X_sb'])"
      ]
     },
     "execution_count": 61,
     "metadata": {},
     "output_type": "execute_result"
    }
   ],
   "source": [
    "dict_Y_prime.keys()"
   ]
  },
  {
   "cell_type": "code",
   "execution_count": 62,
   "metadata": {},
   "outputs": [],
   "source": [
    "#X_rd\n",
    "X_st2 = dict_Y_prime[\"s_X_ts\"]\n",
    "X_ts2 = dict_Y_prime[\"t_X_ts\"]\n",
    "#X_pr\n",
    "X_bs2 = dict_Y_prime[\"b_X_sb\"]\n",
    "X_sb2 = dict_Y_prime[\"s_X_sb\"]\n",
    "#X_pd\n",
    "X_bt2 = dict_Y_prime[\"b_X_tb\"]\n",
    "X_tb2 = dict_Y_prime[\"t_X_tb\"]"
   ]
  },
  {
   "cell_type": "code",
   "execution_count": 63,
   "metadata": {},
   "outputs": [
    {
     "data": {
      "text/plain": [
       "dict_keys(['X_ts', 'X_tb', 'X_sb'])"
      ]
     },
     "execution_count": 63,
     "metadata": {},
     "output_type": "execute_result"
    }
   ],
   "source": [
    "dict_X_prime.keys()"
   ]
  },
  {
   "cell_type": "code",
   "execution_count": 64,
   "metadata": {},
   "outputs": [],
   "source": [
    "#X_rd\n",
    "X_st_prime = dict_X_prime[\"X_ts\"].T\n",
    "X_ts_prime = dict_X_prime[\"X_ts\"]\n",
    "#X_pr\n",
    "X_bs_prime = dict_X_prime[\"X_sb\"].T\n",
    "X_sb_prime = dict_X_prime[\"X_sb\"]\n",
    "#X_pd\n",
    "X_bt_prime = dict_X_prime[\"X_tb\"].T\n",
    "X_tb_prime = dict_X_prime[\"X_tb\"]"
   ]
  },
  {
   "cell_type": "code",
   "execution_count": 65,
   "metadata": {},
   "outputs": [
    {
     "data": {
      "text/plain": [
       "dict_keys(['b', 's', 't'])"
      ]
     },
     "execution_count": 65,
     "metadata": {},
     "output_type": "execute_result"
    }
   ],
   "source": [
    "dict_entity_cluster_info.keys()"
   ]
  },
  {
   "cell_type": "code",
   "execution_count": 66,
   "metadata": {},
   "outputs": [
    {
     "data": {
      "text/plain": [
       "dict_keys(['t', 's', 'b'])"
      ]
     },
     "execution_count": 66,
     "metadata": {},
     "output_type": "execute_result"
    }
   ],
   "source": [
    "dict_cluster_asso_chain[0].keys()"
   ]
  },
  {
   "cell_type": "code",
   "execution_count": 67,
   "metadata": {},
   "outputs": [
    {
     "name": "stdout",
     "output_type": "stream",
     "text": [
      "k1:  1481 , k2:  232 , min(k1,k2):  232\n",
      "cur_key:  0 | s1:  1.0334 , s2:  1.8937 , s21:  1.0164 , s22:  0.8773 , s3:  11.1676 , score:  -12.0278\n",
      "k1:  957 , k2:  320 , min(k1,k2):  320\n",
      "cur_key:  1 | s1:  0.997 , s2:  2.1286 , s21:  1.0614 , s22:  1.0671 , s3:  13.7414 , score:  -14.8729\n",
      "k1:  1445 , k2:  564 , min(k1,k2):  564\n",
      "cur_key:  2 | s1:  1.0044 , s2:  1.859 , s21:  0.8722 , s22:  0.9868 , s3:  0.0 , score:  -0.8546\n"
     ]
    }
   ],
   "source": [
    "dict_clust_id_score = {}\n",
    "for temp_key in dict_cluster_asso_chain.keys():\n",
    "    dict_cc = dict_cluster_asso_chain[temp_key]\n",
    "    # \n",
    "    b_clust_id = dict_cc[\"b\"]\n",
    "    s_clust_id = dict_cc[\"s\"]\n",
    "    t_clust_id = dict_cc[\"t\"]\n",
    "    #\n",
    "    b_idx_list = dict_entity_cluster_info[\"b\"][\"idx\"][b_clust_id]\n",
    "    s_idx_list = dict_entity_cluster_info[\"s\"][\"idx\"][s_clust_id]\n",
    "    t_idx_list = dict_entity_cluster_info[\"t\"][\"idx\"][t_clust_id]\n",
    "    #\n",
    "    X_st_cc = X_st[s_idx_list,:][:,t_idx_list]\n",
    "    X_ts_cc = X_ts[t_idx_list,:][:,s_idx_list]\n",
    "    X_bs_cc = X_bs[b_idx_list,:][:,s_idx_list]\n",
    "    X_sb_cc = X_sb[s_idx_list,:][:,b_idx_list]\n",
    "    X_bt_cc = X_bt[b_idx_list,:][:,t_idx_list]\n",
    "    X_tb_cc = X_tb[t_idx_list,:][:,b_idx_list]\n",
    "#     #\n",
    "#     X_st_cc = X_st2[s_idx_list,:][:,t_idx_list]\n",
    "#     X_ts_cc = X_ts2[t_idx_list,:][:,s_idx_list]\n",
    "#     X_bs_cc = X_bs2[b_idx_list,:][:,s_idx_list]\n",
    "#     X_sb_cc = X_sb2[s_idx_list,:][:,b_idx_list]\n",
    "#     X_bt_cc = X_bt2[b_idx_list,:][:,t_idx_list]\n",
    "#     X_tb_cc = X_tb2[t_idx_list,:][:,b_idx_list]\n",
    "    #\n",
    "    X_st_prime_cc = X_st_prime[s_idx_list,:][:,t_idx_list]\n",
    "    X_ts_prime_cc = X_ts_prime[t_idx_list,:][:,s_idx_list]\n",
    "    X_bs_prime_cc = X_bs_prime[b_idx_list,:][:,s_idx_list]\n",
    "    X_sb_prime_cc = X_sb_prime[s_idx_list,:][:,b_idx_list]\n",
    "    X_bt_prime_cc = X_bt_prime[b_idx_list,:][:,t_idx_list]\n",
    "    X_tb_prime_cc = X_tb_prime[t_idx_list,:][:,b_idx_list]\n",
    "    #\n",
    "    mu_tb_cc = mu_tb[t_idx_list,:]\n",
    "    mu_sb_cc = mu_sb[s_idx_list,:]\n",
    "    #\n",
    "    k = 50\n",
    "    if cc_start_entity == \"s\":\n",
    "        s1 = get_dist(X_st_cc, X_st_prime_cc)\n",
    "        s21 = get_dist(X_sb_cc, X_sb_prime_cc)\n",
    "        s22 = get_dist(X_bt_cc, X_bt_prime_cc)\n",
    "        s2 = s21 + s22 \n",
    "        s3 = get_dist_subspace(X_sb_cc, X_st_prime_cc, k)\n",
    "        #s3 = get_dist_subspace(mu_sb_cc, X_st_prime_cc, k)\n",
    "    elif cc_start_entity == \"t\":\n",
    "        s1 = get_dist(X_ts_cc, X_ts_prime_cc)\n",
    "        s21 = get_dist(X_tb_cc, X_tb_prime_cc)\n",
    "        s22 = get_dist(X_bs_cc, X_bs_prime_cc)\n",
    "        s2 = s21 + s22\n",
    "        s3 = get_dist_subspace(X_tb_cc, X_ts_prime_cc, k)\n",
    "        #s3 = get_dist_subspace(mu_tb_cc, X_ts_prime_cc, k)  \n",
    "    #\n",
    "    alpha = 1.0\n",
    "    beta = 1.0\n",
    "    gamma = 1.0\n",
    "    cur_score = (alpha * s1) - (beta * s2) - (gamma * s3)\n",
    "    #cur_score = (alpha * s1) + (beta * (1-s2)) + (gamma * (1-s3))\n",
    "    dict_clust_id_score[temp_key] = cur_score\n",
    "    print(\"cur_key: \",temp_key,\"| s1: \",np.round(s1,4),\", s2: \",np.round(s2,4),\", s21: \",np.round(s21,4),\", s22: \",np.round(s22,4),\", s3: \",np.round(s3,4),\", score: \",np.round(cur_score,4))"
   ]
  },
  {
   "cell_type": "code",
   "execution_count": 68,
   "metadata": {},
   "outputs": [
    {
     "data": {
      "text/plain": [
       "{0: -12.027804134539407, 1: -14.872909277526958, 2: -0.8546354864408143}"
      ]
     },
     "execution_count": 68,
     "metadata": {},
     "output_type": "execute_result"
    }
   ],
   "source": [
    "dict_clust_id_score"
   ]
  },
  {
   "cell_type": "code",
   "execution_count": 69,
   "metadata": {},
   "outputs": [
    {
     "name": "stdout",
     "output_type": "stream",
     "text": [
      "min_key:  1\n",
      "min score: -14.872909277526958\n"
     ]
    }
   ],
   "source": [
    "keys_list = list(dict_clust_id_score.keys())\n",
    "val_list = list(np.array(list(dict_clust_id_score.values())) * -1)\n",
    "min_score_clust_id = keys_list[np.argmax(val_list)]\n",
    "print(\"min_key: \",min_score_clust_id)\n",
    "print(\"min score:\",dict_clust_id_score[min_score_clust_id])"
   ]
  },
  {
   "cell_type": "code",
   "execution_count": 70,
   "metadata": {},
   "outputs": [
    {
     "name": "stdout",
     "output_type": "stream",
     "text": [
      "max_key:  2\n",
      "max score: -0.8546354864408143\n"
     ]
    }
   ],
   "source": [
    "keys_list = list(dict_clust_id_score.keys())\n",
    "val_list = list(dict_clust_id_score.values())\n",
    "max_score_clust_id = keys_list[np.argmax(val_list)]\n",
    "print(\"max_key: \",max_score_clust_id)\n",
    "print(\"max score:\",dict_clust_id_score[max_score_clust_id])"
   ]
  },
  {
   "cell_type": "code",
   "execution_count": 71,
   "metadata": {},
   "outputs": [
    {
     "name": "stdout",
     "output_type": "stream",
     "text": [
      "abs max_key:  1\n",
      "abs max score: -14.872909277526958\n"
     ]
    }
   ],
   "source": [
    "keys_list = list(dict_clust_id_score.keys())\n",
    "val_list = np.abs(list(dict_clust_id_score.values()))\n",
    "abs_max_score_clust_id = keys_list[np.argmax(val_list)]\n",
    "print(\"abs max_key: \",abs_max_score_clust_id)\n",
    "print(\"abs max score:\",dict_clust_id_score[abs_max_score_clust_id])"
   ]
  },
  {
   "cell_type": "code",
   "execution_count": 72,
   "metadata": {},
   "outputs": [],
   "source": [
    "def get_overlap_percent(dict_entity_cluster_info,e_id,e_clust_id):\n",
    "    p_cur_idx = list(dict_entity_cluster_info[e_id]['idx'][e_clust_id])\n",
    "    if e_id == \"t\":\n",
    "        list_name = \"list_idx_items_to_hide\"\n",
    "    elif e_id == \"s\":\n",
    "        list_name = \"list_idx_subj_to_hide\"\n",
    "    elif e_id == \"b\":        \n",
    "        #list_name = \"list_idx_subj_bow_to_hide\"\n",
    "        list_name = \"list_idx_item_bow_to_hide\"\n",
    "    #list_name = \"list_idx_item_bow_to_hide\" #TODO check if list_idx_subj_bow_to_hide == list_idx_item_bow_to_hide\n",
    "    p_gt_of_idx = data_dict[\"data_hidden\"][list_name]\n",
    "    #p_gt_of_idx = data_dict[\"e_unknown_cluster_idx_perm\"][e_id]\n",
    "    p_overlap_idx = list(set(p_cur_idx).intersection(set(p_gt_of_idx)))\n",
    "    p_per = np.round((len(p_overlap_idx)/len(p_gt_of_idx))*100.0,2)    \n",
    "    return p_per"
   ]
  },
  {
   "cell_type": "code",
   "execution_count": 73,
   "metadata": {},
   "outputs": [
    {
     "data": {
      "text/plain": [
       "[(1066, 581), (1061, 581)]"
      ]
     },
     "execution_count": 73,
     "metadata": {},
     "output_type": "execute_result"
    }
   ],
   "source": [
    "data_dict[\"data_hidden\"][\"list_tuples_hidden\"][:2]"
   ]
  },
  {
   "cell_type": "code",
   "execution_count": 74,
   "metadata": {},
   "outputs": [
    {
     "data": {
      "text/plain": [
       "dict_keys(['list_idx_items_to_hide', 'cluster_labels', 'list_idx_subj_to_hide', 'list_idx_item_bow_to_hide', 'X_item_subj', 'X_item_bow', 'hidden_entity_id', 'X_subj_bow', 'percent_hidden', 'list_tuples_hidden', 'list_idx_subj_bow_to_hide'])"
      ]
     },
     "execution_count": 74,
     "metadata": {},
     "output_type": "execute_result"
    }
   ],
   "source": [
    "data_dict[\"data_hidden\"].keys()"
   ]
  },
  {
   "cell_type": "code",
   "execution_count": 75,
   "metadata": {},
   "outputs": [
    {
     "data": {
      "text/plain": [
       "dict_keys(['X_row_item_labels', 'item_subj_link_words', 'X_row_items_wikidata_id', 'dict_col_subj_link_words', 'dict_col_idx_prop', 'X_col_subj_wikipedia_page', 'dict_row_item_idx', 'X_col_subj_wikidata_id', 'cluster_names', 'cluster_sizes', 'X_col_subj_labels', 'vectorizer.get_feature_names()', 'dict_row_idx_item', 'X_row_items_wikipedia_page', 'dict_row_items_link_words', 'dict_col_prop_idx'])"
      ]
     },
     "execution_count": 75,
     "metadata": {},
     "output_type": "execute_result"
    }
   ],
   "source": [
    "data_dict[\"metadata\"].keys()"
   ]
  },
  {
   "cell_type": "code",
   "execution_count": 76,
   "metadata": {},
   "outputs": [
    {
     "data": {
      "text/plain": [
       "dict_keys([0, 1, 2])"
      ]
     },
     "execution_count": 76,
     "metadata": {},
     "output_type": "execute_result"
    }
   ],
   "source": [
    "dict_cluster_asso_chain.keys()"
   ]
  },
  {
   "cell_type": "code",
   "execution_count": 77,
   "metadata": {},
   "outputs": [
    {
     "data": {
      "text/plain": [
       "dict_keys(['t', 's', 'b'])"
      ]
     },
     "execution_count": 77,
     "metadata": {},
     "output_type": "execute_result"
    }
   ],
   "source": [
    "dict_cluster_asso_chain[0].keys()"
   ]
  },
  {
   "cell_type": "code",
   "execution_count": 78,
   "metadata": {},
   "outputs": [],
   "source": [
    "dict_result1 = {}\n",
    "for temp_key in dict_cluster_asso_chain.keys():\n",
    "    temp_res_dict = {}\n",
    "    #\n",
    "    b_clust_id = dict_cluster_asso_chain[temp_key][\"b\"]\n",
    "    s_clust_id = dict_cluster_asso_chain[temp_key][\"s\"]\n",
    "    t_clust_id = dict_cluster_asso_chain[temp_key][\"t\"]\n",
    "    #\n",
    "    b_clust_size = dict_entity_cluster_info[\"b\"]['num'][b_clust_id]\n",
    "    s_clust_size = dict_entity_cluster_info[\"s\"]['num'][s_clust_id]\n",
    "    t_clust_size = dict_entity_cluster_info[\"t\"]['num'][t_clust_id]\n",
    "    #\n",
    "    b_overlap_per = get_overlap_percent(dict_entity_cluster_info,\"b\",b_clust_id)\n",
    "    s_overlap_per = get_overlap_percent(dict_entity_cluster_info,\"s\",s_clust_id)\n",
    "    t_overlap_per = get_overlap_percent(dict_entity_cluster_info,\"t\",t_clust_id)\n",
    "    #\n",
    "    temp_res_dict[\"b_clust_id\"] = b_clust_id\n",
    "    temp_res_dict[\"s_clust_id\"] = s_clust_id\n",
    "    temp_res_dict[\"t_clust_id\"] = t_clust_id\n",
    "    #\n",
    "    temp_res_dict[\"b_clust_size\"] = b_clust_size\n",
    "    temp_res_dict[\"s_clust_size\"] = s_clust_size\n",
    "    temp_res_dict[\"t_clust_size\"] = t_clust_size\n",
    "    #\n",
    "    temp_res_dict[\"b_overlap_per\"] = b_overlap_per\n",
    "    temp_res_dict[\"s_overlap_per\"] = s_overlap_per\n",
    "    temp_res_dict[\"t_overlap_per\"] = t_overlap_per\n",
    "    #\n",
    "    dict_result1[temp_key] = temp_res_dict"
   ]
  },
  {
   "cell_type": "code",
   "execution_count": 79,
   "metadata": {},
   "outputs": [
    {
     "name": "stdout",
     "output_type": "stream",
     "text": [
      "                     0       1        2\n",
      "b_clust_id        0.00    2.00     1.00\n",
      "b_clust_size   1481.00  957.00  1445.00\n",
      "b_overlap_per    24.91   54.58    20.51\n",
      "s_clust_id        0.00    2.00     1.00\n",
      "s_clust_size    232.00  320.00   564.00\n",
      "s_overlap_per    12.50   50.00    37.50\n",
      "t_clust_id        0.00    1.00     2.00\n",
      "t_clust_size    559.00  983.00   258.00\n",
      "t_overlap_per     0.00  100.00     0.00\n",
      "#\n"
     ]
    }
   ],
   "source": [
    "df_result1 = pd.DataFrame(dict_result1)\n",
    "pp.pprint(df_result1)\n",
    "print(\"#\")\n",
    "df_result1 = pd.DataFrame(dict_result1).T"
   ]
  },
  {
   "cell_type": "code",
   "execution_count": 80,
   "metadata": {},
   "outputs": [
    {
     "name": "stdout",
     "output_type": "stream",
     "text": [
      "                   0       1      2\n",
      "b_overlap_per  24.91   54.58  20.51\n",
      "s_overlap_per  12.50   50.00  37.50\n",
      "t_overlap_per   0.00  100.00   0.00\n"
     ]
    }
   ],
   "source": [
    "pp.pprint(df_result1[[\"b_overlap_per\",\"s_overlap_per\",\"t_overlap_per\"]].T)"
   ]
  },
  {
   "cell_type": "code",
   "execution_count": 81,
   "metadata": {},
   "outputs": [
    {
     "name": "stdout",
     "output_type": "stream",
     "text": [
      "                   0       1      2\n",
      "b_overlap_per  24.91   54.58  20.51\n",
      "s_overlap_per  12.50   50.00  37.50\n",
      "t_overlap_per   0.00  100.00   0.00\n"
     ]
    }
   ],
   "source": [
    "pp.pprint(df_result1[[\"b_overlap_per\",\"s_overlap_per\",\"t_overlap_per\"]].T)"
   ]
  },
  {
   "cell_type": "code",
   "execution_count": 82,
   "metadata": {},
   "outputs": [
    {
     "data": {
      "text/plain": [
       "(2, 1)"
      ]
     },
     "execution_count": 82,
     "metadata": {},
     "output_type": "execute_result"
    }
   ],
   "source": [
    "max_score_clust_id,min_score_clust_id"
   ]
  },
  {
   "cell_type": "code",
   "execution_count": 83,
   "metadata": {},
   "outputs": [
    {
     "data": {
      "text/plain": [
       "1"
      ]
     },
     "execution_count": 83,
     "metadata": {},
     "output_type": "execute_result"
    }
   ],
   "source": [
    "abs_max_score_clust_id"
   ]
  },
  {
   "cell_type": "code",
   "execution_count": 84,
   "metadata": {},
   "outputs": [
    {
     "data": {
      "text/plain": [
       "0     37.41\n",
       "1    204.58\n",
       "2     58.01\n",
       "dtype: float64"
      ]
     },
     "execution_count": 84,
     "metadata": {},
     "output_type": "execute_result"
    }
   ],
   "source": [
    "df_result1[[\"b_overlap_per\",\"s_overlap_per\",\"t_overlap_per\"]].sum(axis=1)"
   ]
  },
  {
   "cell_type": "code",
   "execution_count": null,
   "metadata": {},
   "outputs": [],
   "source": []
  }
 ],
 "metadata": {
  "kernelspec": {
   "display_name": "Python 3",
   "language": "python",
   "name": "python3"
  },
  "language_info": {
   "codemirror_mode": {
    "name": "ipython",
    "version": 3
   },
   "file_extension": ".py",
   "mimetype": "text/x-python",
   "name": "python",
   "nbconvert_exporter": "python",
   "pygments_lexer": "ipython3",
   "version": "3.6.6"
  }
 },
 "nbformat": 4,
 "nbformat_minor": 4
}
