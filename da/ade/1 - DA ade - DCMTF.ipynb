{
 "cells": [
  {
   "cell_type": "code",
   "execution_count": 1,
   "metadata": {},
   "outputs": [],
   "source": [
    "import numpy as np\n",
    "import pickle as pkl\n",
    "import torch\n",
    "from scipy.spatial.distance import cosine, euclidean\n",
    "import pandas as pd\n",
    "import pprint as pp"
   ]
  },
  {
   "cell_type": "code",
   "execution_count": 2,
   "metadata": {},
   "outputs": [],
   "source": [
    "import seaborn as sns\n",
    "import matplotlib.pyplot as plt"
   ]
  },
  {
   "cell_type": "code",
   "execution_count": 3,
   "metadata": {},
   "outputs": [],
   "source": [
    "from sklearn.preprocessing import StandardScaler"
   ]
  },
  {
   "cell_type": "code",
   "execution_count": 4,
   "metadata": {},
   "outputs": [],
   "source": [
    "%matplotlib inline"
   ]
  },
  {
   "cell_type": "code",
   "execution_count": 5,
   "metadata": {},
   "outputs": [],
   "source": [
    "import bz2\n",
    "import _pickle as cPickle\n",
    "\n",
    "# Load any compressed pickle file\n",
    "def decompress_pickle(file):\n",
    "    assert file.endswith(\"pbz2\")\n",
    "    data = bz2.BZ2File(file, \"rb\")\n",
    "    data = cPickle.load(data,encoding='latin1')\n",
    "    return data"
   ]
  },
  {
   "cell_type": "code",
   "execution_count": 6,
   "metadata": {},
   "outputs": [],
   "source": [
    "#data"
   ]
  },
  {
   "cell_type": "code",
   "execution_count": 7,
   "metadata": {},
   "outputs": [],
   "source": [
    "run_no = \"1\""
   ]
  },
  {
   "cell_type": "code",
   "execution_count": 8,
   "metadata": {},
   "outputs": [],
   "source": [
    "is_abs_A = False"
   ]
  },
  {
   "cell_type": "code",
   "execution_count": 9,
   "metadata": {},
   "outputs": [],
   "source": [
    "cc_start_entity = \"d\" # d, r"
   ]
  },
  {
   "cell_type": "code",
   "execution_count": 10,
   "metadata": {},
   "outputs": [],
   "source": [
    "if run_no == \"1\":\n",
    "    data_version_name = \"5\"\n",
    "    dname_data = \"./../../data/ade\"+run_no+\"/\"\n",
    "    fname_data = dname_data+\"dict_nsides_mimic_data_v\"+data_version_name+\"_case1_part.pkl.pbz2\"\n",
    "elif run_no == \"2\":\n",
    "    data_version_name = \"1\"\n",
    "    dname_data = \"./../../data/ade\"+run_no+\"/\"\n",
    "    fname_data = dname_data+\"dict_nsides_mimic_data_v\"+data_version_name+\"_case1_part.pkl.pbz2\"    \n",
    "elif run_no == \"3\":\n",
    "    data_version_name = \"2\"\n",
    "    dname_data = \"./../../data/ade\"+run_no+\"/\"\n",
    "    fname_data = dname_data+\"dict_nsides_mimic_data_v\"+data_version_name+\"_case1_part.pkl.pbz2\"    \n",
    "elif run_no == \"4\":\n",
    "    data_version_name = \"4\"\n",
    "    dname_data = \"./../../data/ade\"+run_no+\"/\"\n",
    "    fname_data = dname_data+\"dict_nsides_mimic_data_v\"+data_version_name+\"_case1_part.pkl.pbz2\""
   ]
  },
  {
   "cell_type": "code",
   "execution_count": 11,
   "metadata": {},
   "outputs": [
    {
     "data": {
      "text/plain": [
       "'./../../data/ade1/dict_nsides_mimic_data_v5_case1_part.pkl.pbz2'"
      ]
     },
     "execution_count": 11,
     "metadata": {},
     "output_type": "execute_result"
    }
   ],
   "source": [
    "fname_data"
   ]
  },
  {
   "cell_type": "code",
   "execution_count": 12,
   "metadata": {},
   "outputs": [],
   "source": [
    "#data_dict = pkl.load(open(fname_data,\"rb\"))\n",
    "data_dict = decompress_pickle(fname_data)"
   ]
  },
  {
   "cell_type": "code",
   "execution_count": 13,
   "metadata": {},
   "outputs": [
    {
     "data": {
      "text/plain": [
       "dict_keys(['matrices_data', 'metadata', 'gt_case1_part'])"
      ]
     },
     "execution_count": 13,
     "metadata": {},
     "output_type": "execute_result"
    }
   ],
   "source": [
    "data_dict.keys()"
   ]
  },
  {
   "cell_type": "code",
   "execution_count": 14,
   "metadata": {},
   "outputs": [
    {
     "data": {
      "text/plain": [
       "dict_keys(['dict_p_id_idx_map', 'dict_r_id_idx_map', 'dict_d_id_idx_map', 'dict_p_idx_id_map', 'dict_r_idx_id_map', 'dict_d_idx_id_map'])"
      ]
     },
     "execution_count": 14,
     "metadata": {},
     "output_type": "execute_result"
    }
   ],
   "source": [
    "data_dict[\"metadata\"].keys()"
   ]
  },
  {
   "cell_type": "code",
   "execution_count": 15,
   "metadata": {},
   "outputs": [],
   "source": [
    "dict_mat = data_dict[\"matrices_data\"]\n",
    "X_pd = dict_mat[\"mat_pat_dis_treat\"]\n",
    "X_pr = dict_mat[\"mat_pat_drugs\"]\n",
    "X_rd = dict_mat[\"mat_drugs_dis_side\"]"
   ]
  },
  {
   "cell_type": "code",
   "execution_count": 16,
   "metadata": {},
   "outputs": [],
   "source": [
    "G = {\n",
    "    \"p\":[\"X_pr\",\"X_pd\"],\\\n",
    "    \"r\":[\"X_pr\",\"X_rd\"],\\\n",
    "    \"d\":[\"X_rd\",\"X_pd\"]}\n",
    "\n",
    "X_data = {\n",
    "    \"X_pr\":X_pr, \\\n",
    "    \"X_pd\":X_pd, \\\n",
    "    \"X_rd\":X_rd\n",
    "    }\n",
    "\n",
    "X_meta = {\n",
    "    \"X_pr\":[\"p\",\"r\"],\n",
    "    \"X_pd\":[\"p\",\"d\"],\n",
    "    \"X_rd\":[\"r\",\"d\"]}\n",
    "\n",
    "X_dtype = {\n",
    "    \"X_pr\":\"real\", \\\n",
    "    \"X_pd\":\"real\", \\\n",
    "    \"X_rd\":\"real\"\n",
    "}\n",
    "    \n",
    "#dict_num_clusters = {'p': 5, 'r': 10, 'd': 9} \n",
    "if data_version_name in [\"1\"]:\n",
    "    dict_num_clusters =  {'p': 4, 'r': 10, 'd': 10}\n",
    "elif data_version_name in [\"2\"]:\n",
    "    dict_num_clusters =  {'p': 5, 'r': 10, 'd': 10}\n",
    "elif data_version_name in [\"3\"]:\n",
    "    dict_num_clusters =  {'p': 4, 'r': 8, 'd': 10}\n",
    "elif data_version_name in [\"4\"]:\n",
    "    dict_num_clusters =  {'p': 5, 'r': 10, 'd': 9} \n",
    "elif data_version_name in [\"5\"]:\n",
    "    dict_num_clusters =  {'p': 5, 'r': 10, 'd': 9} \n",
    "else:\n",
    "    assert False,\"Unknown adr_data_version_name: \"+data_version_name"
   ]
  },
  {
   "cell_type": "code",
   "execution_count": 17,
   "metadata": {},
   "outputs": [
    {
     "data": {
      "text/plain": [
       "{'p': 5, 'r': 10, 'd': 9}"
      ]
     },
     "execution_count": 17,
     "metadata": {},
     "output_type": "execute_result"
    }
   ],
   "source": [
    "dict_num_clusters"
   ]
  },
  {
   "cell_type": "code",
   "execution_count": 18,
   "metadata": {},
   "outputs": [],
   "source": [
    "#out"
   ]
  },
  {
   "cell_type": "code",
   "execution_count": 19,
   "metadata": {},
   "outputs": [],
   "source": [
    "dname_out = \"./../../out_clust/ade\"+run_no+\"/version_\"+data_version_name+\"/\""
   ]
  },
  {
   "cell_type": "code",
   "execution_count": 20,
   "metadata": {},
   "outputs": [
    {
     "data": {
      "text/plain": [
       "'./../../out_clust/ade1/version_5/'"
      ]
     },
     "execution_count": 20,
     "metadata": {},
     "output_type": "execute_result"
    }
   ],
   "source": [
    "dname_out"
   ]
  },
  {
   "cell_type": "code",
   "execution_count": 21,
   "metadata": {},
   "outputs": [],
   "source": [
    "fname_clust_labels = dname_out+\"dict_c_clust_labels.pkl\"\n",
    "fname_A = dname_out+\"dict_A.pkl\"\n",
    "fname_X_prime = dname_out+\"dict_recons_X.pkl\"\n",
    "fname_Y_prime = dname_out+\"dict_recons_Y.pkl\"\n",
    "fname_I_ortho = dname_out+\"dict_I_ortho.pkl\"\n",
    "fname_U = dname_out+\"dict_U.pkl\"\n",
    "fname_mu = dname_out+\"dict_mu.pkl\""
   ]
  },
  {
   "cell_type": "code",
   "execution_count": 22,
   "metadata": {},
   "outputs": [],
   "source": [
    "dict_clust_labels = pkl.load(open(fname_clust_labels,\"rb\"))\n",
    "dict_A = pkl.load(open(fname_A,\"rb\"))\n",
    "dict_X_prime = pkl.load(open(fname_X_prime,\"rb\"))\n",
    "dict_Y_prime = pkl.load(open(fname_Y_prime,\"rb\"))\n",
    "dict_I_ortho = pkl.load(open(fname_I_ortho,\"rb\"))\n",
    "dict_U = pkl.load(open(fname_U,\"rb\"))\n",
    "dict_mu = pkl.load(open(fname_mu,\"rb\"))"
   ]
  },
  {
   "cell_type": "code",
   "execution_count": 23,
   "metadata": {},
   "outputs": [],
   "source": [
    "# dict_A = {}\n",
    "# for x_id in dict_A_raw.keys():\n",
    "#     scaler1 = StandardScaler()\n",
    "#     dict_A[x_id] = scaler1.fit_transform(dict_A_raw[x_id])"
   ]
  },
  {
   "cell_type": "code",
   "execution_count": 24,
   "metadata": {},
   "outputs": [],
   "source": [
    "#sanity check - start"
   ]
  },
  {
   "cell_type": "code",
   "execution_count": 25,
   "metadata": {},
   "outputs": [
    {
     "data": {
      "text/plain": [
       "dict_keys(['X_pr', 'X_pd', 'X_rd'])"
      ]
     },
     "execution_count": 25,
     "metadata": {},
     "output_type": "execute_result"
    }
   ],
   "source": [
    "dict_A.keys()"
   ]
  },
  {
   "cell_type": "code",
   "execution_count": 26,
   "metadata": {},
   "outputs": [
    {
     "data": {
      "text/plain": [
       "array([[-117.99486  , -181.4257   ,  -19.596973 ,  -51.72543  ,\n",
       "         -26.278326 ,  -33.840935 ,  -23.20325  ,  -62.45585  ,\n",
       "         -28.142876 ],\n",
       "       [ 115.74491  ,   73.25941  ,   17.841402 ,   27.881687 ,\n",
       "          19.318071 ,   23.917866 ,   20.161655 ,   35.32582  ,\n",
       "          17.993277 ],\n",
       "       [  28.70086  ,   33.531677 ,    4.7385087,   13.3003235,\n",
       "           4.6696253,    6.891186 ,    4.7402506,   12.167971 ,\n",
       "           9.751493 ],\n",
       "       [ -21.943996 ,    0.6731851,   -2.493927 ,   -4.2688174,\n",
       "          -2.494796 ,   -3.1439736,   -4.1078534,   -1.5874348,\n",
       "          -1.7532332],\n",
       "       [  53.07267  ,   26.22287  ,    8.024763 ,   13.859955 ,\n",
       "           7.663022 ,   10.965383 ,    8.40477  ,   14.717553 ,\n",
       "           8.031314 ],\n",
       "       [   5.8237967,   55.08526  ,    2.1822042,    8.991854 ,\n",
       "           5.7856693,    7.9529104,    5.267193 ,   18.606174 ,\n",
       "           5.1338243],\n",
       "       [ 211.50674  ,   63.269394 ,   27.338894 ,   36.250263 ,\n",
       "          29.830524 ,   35.04502  ,   29.19287  ,   38.61315  ,\n",
       "          21.79494  ],\n",
       "       [  -0.7785645,   14.292877 ,    2.7440088,    4.524828 ,\n",
       "           1.8537835,    2.1948998,    2.221321 ,    3.9328184,\n",
       "           1.1530097],\n",
       "       [ -69.41618  ,  -96.26382  ,  -11.264373 ,  -28.694109 ,\n",
       "         -14.8941345,  -18.795586 ,  -13.986346 ,  -34.198227 ,\n",
       "         -15.639009 ],\n",
       "       [-149.06067  ,  -30.952263 ,  -21.499365 ,  -22.21182  ,\n",
       "         -21.095732 ,  -26.27847  ,  -23.317125 ,  -29.414759 ,\n",
       "         -17.12919  ]], dtype=float32)"
      ]
     },
     "execution_count": 26,
     "metadata": {},
     "output_type": "execute_result"
    }
   ],
   "source": [
    "dict_A[\"X_rd\"]"
   ]
  },
  {
   "cell_type": "code",
   "execution_count": 27,
   "metadata": {},
   "outputs": [
    {
     "data": {
      "text/plain": [
       "array([[-118., -181.,  -20.,  -52.,  -26.,  -34.,  -23.,  -62.,  -28.],\n",
       "       [ 116.,   73.,   18.,   28.,   19.,   24.,   20.,   35.,   18.],\n",
       "       [  29.,   34.,    5.,   13.,    5.,    7.,    5.,   12.,   10.],\n",
       "       [ -22.,    1.,   -2.,   -4.,   -2.,   -3.,   -4.,   -2.,   -2.],\n",
       "       [  53.,   26.,    8.,   14.,    8.,   11.,    8.,   15.,    8.],\n",
       "       [   6.,   55.,    2.,    9.,    6.,    8.,    5.,   19.,    5.],\n",
       "       [ 212.,   63.,   27.,   36.,   30.,   35.,   29.,   39.,   22.],\n",
       "       [  -1.,   14.,    3.,    5.,    2.,    2.,    2.,    4.,    1.],\n",
       "       [ -69.,  -96.,  -11.,  -29.,  -15.,  -19.,  -14.,  -34.,  -16.],\n",
       "       [-149.,  -31.,  -21.,  -22.,  -21.,  -26.,  -23.,  -29.,  -17.]],\n",
       "      dtype=float32)"
      ]
     },
     "execution_count": 27,
     "metadata": {},
     "output_type": "execute_result"
    }
   ],
   "source": [
    "np.round(dict_A[\"X_rd\"])"
   ]
  },
  {
   "cell_type": "code",
   "execution_count": 28,
   "metadata": {},
   "outputs": [
    {
     "data": {
      "text/plain": [
       "array([[0., 0., 0., 0., 0., 0., 0., 0., 0., 1.],\n",
       "       [0., 0., 0., 0., 0., 1., 0., 0., 0., 0.],\n",
       "       [0., 0., 0., 0., 0., 0., 0., 1., 0., 0.],\n",
       "       [0., 0., 0., 0., 0., 0., 0., 1., 0., 0.],\n",
       "       [0., 0., 0., 1., 0., 0., 0., 0., 0., 0.],\n",
       "       [0., 0., 0., 1., 0., 0., 0., 0., 0., 0.],\n",
       "       [0., 0., 0., 1., 0., 0., 0., 0., 0., 0.],\n",
       "       [0., 0., 0., 0., 0., 1., 0., 0., 0., 0.],\n",
       "       [0., 0., 1., 0., 0., 0., 0., 0., 0., 0.]])"
      ]
     },
     "execution_count": 28,
     "metadata": {},
     "output_type": "execute_result"
    }
   ],
   "source": [
    "A_sr = np.abs(dict_A[\"X_rd\"].T)\n",
    "scaler1 = StandardScaler()\n",
    "A_sr = scaler1.fit_transform(A_sr)\n",
    "#\n",
    "A_temp = np.zeros(A_sr.shape)\n",
    "for i in np.arange(A_temp.shape[0]):\n",
    "    j = np.argmax(A_sr[i,:])\n",
    "    A_temp[i,j] = 1\n",
    "A_temp    "
   ]
  },
  {
   "cell_type": "code",
   "execution_count": 29,
   "metadata": {},
   "outputs": [
    {
     "data": {
      "text/plain": [
       "array([[ 1.11,  2.34, -0.79, -0.17, -0.66, -0.52, -0.72,  0.04, -0.63],\n",
       "       [ 2.42,  1.08, -0.67, -0.35, -0.62, -0.48, -0.6 , -0.12, -0.66],\n",
       "       [ 1.53,  2.01, -0.83,  0.01, -0.84, -0.62, -0.83, -0.1 , -0.34],\n",
       "       [ 2.78, -0.65, -0.36, -0.07, -0.36, -0.25, -0.1 , -0.51, -0.48],\n",
       "       [ 2.6 ,  0.68, -0.63, -0.21, -0.65, -0.42, -0.6 , -0.15, -0.63],\n",
       "       [-0.44,  2.72, -0.68, -0.24, -0.45, -0.31, -0.48,  0.38, -0.49],\n",
       "       [ 2.77,  0.15, -0.49, -0.33, -0.44, -0.35, -0.45, -0.29, -0.58],\n",
       "       [-0.76,  2.71, -0.26,  0.2 , -0.48, -0.4 , -0.39,  0.05, -0.66],\n",
       "       [ 1.28,  2.24, -0.8 , -0.18, -0.67, -0.53, -0.71,  0.02, -0.65],\n",
       "       [ 2.81, -0.18, -0.41, -0.4 , -0.42, -0.29, -0.37, -0.21, -0.53]],\n",
       "      dtype=float32)"
      ]
     },
     "execution_count": 29,
     "metadata": {},
     "output_type": "execute_result"
    }
   ],
   "source": [
    "np.round(A_sr,2).T"
   ]
  },
  {
   "cell_type": "code",
   "execution_count": 30,
   "metadata": {},
   "outputs": [
    {
     "data": {
      "text/plain": [
       "array([[0., 0., 0., 0., 0., 0., 0., 0., 1., 0.],\n",
       "       [0., 0., 0., 0., 0., 0., 0., 0., 1., 0.],\n",
       "       [0., 0., 1., 0., 0., 0., 0., 0., 0., 0.],\n",
       "       [0., 0., 1., 0., 0., 0., 0., 0., 0., 0.],\n",
       "       [0., 0., 0., 0., 1., 0., 0., 0., 0., 0.]])"
      ]
     },
     "execution_count": 30,
     "metadata": {},
     "output_type": "execute_result"
    }
   ],
   "source": [
    "A_sr = np.abs(dict_A[\"X_pr\"])\n",
    "A_temp = np.zeros(A_sr.shape)\n",
    "for i in np.arange(A_temp.shape[0]):\n",
    "    j = np.argmax(A_sr[i,:])\n",
    "    A_temp[i,j] = 1\n",
    "A_temp    "
   ]
  },
  {
   "cell_type": "code",
   "execution_count": 31,
   "metadata": {},
   "outputs": [
    {
     "data": {
      "text/plain": [
       "array([[0., 0., 0., 1., 0., 0., 0., 0., 0.],\n",
       "       [0., 0., 0., 0., 0., 0., 0., 1., 0.],\n",
       "       [0., 0., 1., 0., 0., 0., 0., 0., 0.],\n",
       "       [0., 0., 0., 1., 0., 0., 0., 0., 0.],\n",
       "       [0., 0., 0., 0., 1., 0., 0., 0., 0.]])"
      ]
     },
     "execution_count": 31,
     "metadata": {},
     "output_type": "execute_result"
    }
   ],
   "source": [
    "A_sr = np.abs(dict_A[\"X_pd\"])\n",
    "# scaler1 = StandardScaler()\n",
    "# A_sr = scaler1.fit_transform(A_sr)\n",
    "A_temp = np.zeros(A_sr.shape)\n",
    "for i in np.arange(A_temp.shape[0]):\n",
    "    j = np.argmax(A_sr[i,:])\n",
    "    A_temp[i,j] = 1\n",
    "A_temp    "
   ]
  },
  {
   "cell_type": "code",
   "execution_count": 32,
   "metadata": {},
   "outputs": [
    {
     "data": {
      "text/plain": [
       "array([[ 1., -0.,  0.,  0.,  0., -0.,  0., -0.,  0.,  0.],\n",
       "       [-0.,  1., -0., -0.,  0.,  0., -0., -0.,  0., -0.],\n",
       "       [ 0., -0.,  1., -0., -0.,  0., -0.,  0.,  0., -0.],\n",
       "       [ 0., -0., -0.,  1., -0.,  0., -0., -0.,  0.,  0.],\n",
       "       [ 0.,  0., -0., -0.,  1., -0., -0.,  0.,  0.,  0.],\n",
       "       [-0.,  0.,  0.,  0., -0.,  1., -0.,  0., -0., -0.],\n",
       "       [ 0., -0., -0., -0., -0., -0.,  1.,  0., -0., -0.],\n",
       "       [-0., -0.,  0., -0.,  0.,  0.,  0.,  1., -0.,  0.],\n",
       "       [ 0.,  0.,  0.,  0.,  0., -0., -0., -0.,  1., -0.],\n",
       "       [ 0., -0., -0.,  0.,  0., -0., -0.,  0., -0.,  1.]], dtype=float32)"
      ]
     },
     "execution_count": 32,
     "metadata": {},
     "output_type": "execute_result"
    }
   ],
   "source": [
    "np.round(np.dot(dict_I_ortho[\"r\"].T, dict_I_ortho[\"r\"]))"
   ]
  },
  {
   "cell_type": "code",
   "execution_count": 33,
   "metadata": {},
   "outputs": [
    {
     "data": {
      "text/plain": [
       "array([[ 1.,  0., -0., -0., -0., -0., -0.,  0., -0.],\n",
       "       [ 0.,  1., -0., -0.,  0.,  0.,  0.,  0., -0.],\n",
       "       [-0., -0.,  1., -0.,  0.,  0.,  0., -0.,  0.],\n",
       "       [-0., -0., -0.,  1., -0.,  0., -0.,  0., -0.],\n",
       "       [-0.,  0.,  0., -0.,  1.,  0.,  0.,  0.,  0.],\n",
       "       [-0.,  0.,  0.,  0.,  0.,  1., -0., -0.,  0.],\n",
       "       [-0.,  0.,  0., -0.,  0., -0.,  1., -0.,  0.],\n",
       "       [ 0.,  0., -0.,  0.,  0., -0., -0.,  1., -0.],\n",
       "       [-0., -0.,  0., -0.,  0.,  0.,  0., -0.,  1.]], dtype=float32)"
      ]
     },
     "execution_count": 33,
     "metadata": {},
     "output_type": "execute_result"
    }
   ],
   "source": [
    "np.round(np.dot(dict_I_ortho[\"d\"].T, dict_I_ortho[\"d\"]))"
   ]
  },
  {
   "cell_type": "code",
   "execution_count": 34,
   "metadata": {},
   "outputs": [],
   "source": [
    "#sanity check - end"
   ]
  },
  {
   "cell_type": "code",
   "execution_count": 35,
   "metadata": {},
   "outputs": [
    {
     "data": {
      "text/plain": [
       "{'p': array([0, 0, 0, ..., 0, 0, 0], dtype=int32),\n",
       " 'r': array([2, 6, 8, 1, 0, 9, 5, 3, 9, 9, 2, 4, 4, 5, 9, 1, 1, 5, 9, 1, 0, 3,\n",
       "        9, 9, 3, 5, 1, 5, 9, 2, 0, 9, 1, 9, 9, 9, 5, 9, 9, 1, 5, 4, 5, 9,\n",
       "        8, 2, 1, 0, 1, 2, 1, 3, 2, 4, 1, 1, 7, 2, 2, 9, 8, 5, 2, 5, 4, 9,\n",
       "        9, 9, 8, 5, 4, 6, 4, 0, 1, 4, 1, 9, 7, 4, 5, 9, 1, 9, 2, 9, 9, 4,\n",
       "        1, 5, 4, 1, 1, 1, 1, 9, 0, 5, 6, 9, 1, 9, 0, 9, 9, 9, 9, 6, 9, 5,\n",
       "        1, 6, 6, 4, 4, 1, 5, 1, 2, 9, 0, 9, 9, 2, 4, 1, 5, 4, 5, 0, 9, 1,\n",
       "        5, 8, 1, 1, 1, 5, 1, 4, 9, 1, 0, 2, 9, 5, 5, 9, 2, 8, 9, 5, 4, 4,\n",
       "        1, 9, 9, 9, 9, 6, 9, 5, 9, 3, 4, 7, 7, 9, 4, 0, 7, 9, 4, 1, 3, 9,\n",
       "        9, 0, 9, 0, 1, 9, 1, 4, 4, 1, 2, 1, 6, 5, 9, 8, 1, 5, 5, 8, 1, 5,\n",
       "        0, 5, 9, 2, 0, 5, 9, 1, 9, 2, 9, 5, 5, 1, 8, 2, 1, 1, 1, 1, 9, 1,\n",
       "        1, 5, 2, 9, 9, 1, 2, 1, 5, 0, 9, 5, 6, 5, 5, 5, 9, 5, 1, 0, 6, 5,\n",
       "        8, 2, 5, 2, 8, 4, 5, 5, 9, 9, 2, 5, 5, 9, 5, 2, 1, 0, 9, 6, 6, 8,\n",
       "        9, 5, 0, 6, 2, 1, 1, 6, 8, 9, 4, 2, 0, 4, 8, 1, 9, 6, 1, 5, 1, 1,\n",
       "        9, 0, 1, 9, 1, 4, 9, 0, 5, 1, 9, 0, 3, 2, 1, 2, 9, 9, 9, 0, 9, 3,\n",
       "        9, 5, 9, 8, 4, 9, 0, 9, 9, 0, 0, 9, 5, 1, 1, 6, 9, 5, 9, 6, 5, 9,\n",
       "        1, 6, 5, 6, 5, 0, 0, 5, 7, 2, 5, 0, 9, 9, 6, 9, 9, 9, 1, 5, 9, 5,\n",
       "        4, 0, 4, 5, 5, 6, 5, 1, 9, 9, 6, 9, 9, 9, 9, 5, 8, 2, 1, 4, 9, 2,\n",
       "        5, 5, 2, 5, 1, 9, 9, 9, 2, 5, 7, 9, 5, 4, 6, 1, 1, 8, 5, 6, 9, 9,\n",
       "        9, 9, 5, 0, 1, 4, 1, 9, 9, 1, 5, 6, 1, 2, 9, 0, 6, 0, 9, 1, 1, 9,\n",
       "        1, 9, 2, 5, 5, 9, 9, 9, 4, 6, 1, 9, 0, 1, 9, 3, 5, 1, 5, 5, 9, 1,\n",
       "        6, 9, 6, 0, 9, 1, 9, 1, 5, 9, 0, 2, 9, 5, 7, 2, 5, 6, 0, 9, 5, 9,\n",
       "        5, 9, 9, 9, 5, 1, 0, 1, 0, 0, 0, 5, 5, 9, 9, 0, 1, 9, 2, 9, 9, 2,\n",
       "        9, 0, 4, 9, 5, 5, 4, 4, 1, 1, 7, 1, 4, 9, 7, 1, 5, 8, 0, 2, 1, 2,\n",
       "        2, 9, 8, 6, 5, 0, 6, 4, 7, 8, 6, 1, 5, 1, 5, 7, 2, 8, 8, 0, 1, 5,\n",
       "        1, 5, 9, 9, 9, 1, 0, 1, 0, 9, 9, 5, 4, 5, 9, 5, 2, 9, 9, 2, 1, 4,\n",
       "        0, 6, 9, 6, 1, 6, 5, 5, 9, 1, 3, 0, 1, 1, 5, 5, 4, 9, 2, 9, 0, 1,\n",
       "        6, 5, 4, 3, 4, 5, 3, 0, 9, 1, 2, 1, 9, 9, 1, 1, 9, 9, 1, 1, 6, 2,\n",
       "        0, 1], dtype=int32),\n",
       " 'd': array([0, 1, 1, ..., 0, 0, 3], dtype=int32)}"
      ]
     },
     "execution_count": 35,
     "metadata": {},
     "output_type": "execute_result"
    }
   ],
   "source": [
    "dict_clust_labels"
   ]
  },
  {
   "cell_type": "code",
   "execution_count": 36,
   "metadata": {},
   "outputs": [],
   "source": [
    "def get_cluster_num_idx(dict_clust_labels,e_id,num_clusters):\n",
    "    p_clust_id_list = dict_clust_labels[e_id]\n",
    "#     p_clust_id_list = []\n",
    "#     for i in np.arange(U.shape[0]):\n",
    "#         temp_arr = U[i]\n",
    "#         p_clust_id_list.append(np.argmax(temp_arr))\n",
    "    #\n",
    "    p_clust_id_num_dict = {}\n",
    "    p_clust_id_idx_dict = {}\n",
    "    for j in np.arange(num_clusters[e_id]):\n",
    "        temp_clust_j = np.array(p_clust_id_list) == j\n",
    "        temp_clust_j_idx = np.arange(p_clust_id_list.shape[0])[temp_clust_j]\n",
    "        num_p = np.sum(temp_clust_j)\n",
    "        print(\"cluster: \",j,\", #\", num_p)\n",
    "        p_clust_id_num_dict[j] = num_p\n",
    "        p_clust_id_idx_dict[j] = temp_clust_j_idx     \n",
    "    return p_clust_id_num_dict, p_clust_id_idx_dict,p_clust_id_list"
   ]
  },
  {
   "cell_type": "code",
   "execution_count": 37,
   "metadata": {},
   "outputs": [
    {
     "name": "stdout",
     "output_type": "stream",
     "text": [
      "e_id:  p\n",
      "cluster:  0 , # 4948\n",
      "cluster:  1 , # 548\n",
      "cluster:  2 , # 15\n",
      "cluster:  3 , # 329\n",
      "cluster:  4 , # 50\n",
      "e_id:  r\n",
      "cluster:  0 , # 54\n",
      "cluster:  1 , # 110\n",
      "cluster:  2 , # 48\n",
      "cluster:  3 , # 12\n",
      "cluster:  4 , # 44\n",
      "cluster:  5 , # 101\n",
      "cluster:  6 , # 38\n",
      "cluster:  7 , # 12\n",
      "cluster:  8 , # 22\n",
      "cluster:  9 , # 155\n",
      "e_id:  d\n",
      "cluster:  0 , # 786\n",
      "cluster:  1 , # 330\n",
      "cluster:  2 , # 13\n",
      "cluster:  3 , # 49\n",
      "cluster:  4 , # 20\n",
      "cluster:  5 , # 28\n",
      "cluster:  6 , # 19\n",
      "cluster:  7 , # 57\n",
      "cluster:  8 , # 19\n"
     ]
    }
   ],
   "source": [
    "dict_entity_cluster_info = {}\n",
    "for e_id in G.keys():\n",
    "    print(\"e_id: \",e_id)\n",
    "    temp_num, temp_idx, temp_pred_idx = get_cluster_num_idx(dict_clust_labels,e_id,dict_num_clusters)\n",
    "    dict_entity_cluster_info[e_id] = {\"num\":temp_num,\"idx\":temp_idx,\"temp_pred_idx\":temp_pred_idx}"
   ]
  },
  {
   "cell_type": "code",
   "execution_count": 38,
   "metadata": {},
   "outputs": [
    {
     "data": {
      "text/plain": [
       "{'X_pr': array([[-7.1947575e+00, -8.9039373e+00, -1.8243607e+01, -3.2192874e+00,\n",
       "         -1.6628550e+01, -5.5368519e+00, -7.0359082e+00, -2.7110577e+00,\n",
       "         -7.0509338e+01, -9.2836838e+00],\n",
       "        [ 6.4393501e+00, -5.2363143e+00,  2.0530801e+00, -1.5820880e+00,\n",
       "         -3.5911882e+00, -1.6372939e+00, -6.3619285e+00, -8.9343739e-01,\n",
       "          2.0981097e+02, -4.7007942e-01],\n",
       "        [ 4.6913058e-02,  2.9809308e+00,  3.9559836e+00,  7.1643293e-01,\n",
       "          2.3431404e+00,  1.8765232e-01,  5.3407639e-02,  1.1061440e+00,\n",
       "         -2.9608154e+00,  3.3300931e+00],\n",
       "        [ 1.8442781e+01,  3.8308506e+01,  6.4280251e+01,  1.4619688e+01,\n",
       "          6.2241661e+01,  2.0689098e+01,  3.2704689e+01,  1.0937341e+01,\n",
       "          3.8918591e+00,  3.3678062e+01],\n",
       "        [ 2.9201927e+00,  6.0106025e+00,  7.6327152e+00, -6.3144910e-01,\n",
       "          1.6364826e+01,  7.3268833e+00,  7.1321907e+00,  1.2652466e+00,\n",
       "         -1.5422033e+00,  5.6957903e+00]], dtype=float32),\n",
       " 'X_pd': array([[-4.65656853e+00, -3.56266284e+00, -3.01892900e+00,\n",
       "         -1.06442690e+01, -3.84397674e+00, -3.30893111e+00,\n",
       "         -7.93946505e-01, -2.10351038e+00, -4.29255199e+00],\n",
       "        [ 3.07741237e+00, -3.04078865e+00, -1.47076905e+00,\n",
       "         -7.10615063e+00,  3.89567912e-02, -1.14894748e+00,\n",
       "          3.69325459e-01, -8.05889702e+00, -8.17299962e-01],\n",
       "        [ 2.46007824e+00, -1.73821241e-01,  6.47820435e+01,\n",
       "          1.26466918e+00,  1.28764124e+01, -6.27380610e-01,\n",
       "          1.13620596e+01,  1.72014070e+00, -3.37576956e-01],\n",
       "        [ 1.11402559e+01,  1.47753839e+01, -5.34937382e-02,\n",
       "          4.54909401e+01,  2.16221762e+00,  1.11730995e+01,\n",
       "         -5.26845932e-01,  1.62431583e+01,  1.47242470e+01],\n",
       "        [ 6.21130228e+00,  7.70197582e+00, -4.44261938e-01,\n",
       "          1.20295057e+01,  2.55113926e+01,  8.40344238e+00,\n",
       "          1.80360162e+00,  4.99689913e+00,  7.82260704e+00]], dtype=float32),\n",
       " 'X_rd': array([[-117.99486  , -181.4257   ,  -19.596973 ,  -51.72543  ,\n",
       "          -26.278326 ,  -33.840935 ,  -23.20325  ,  -62.45585  ,\n",
       "          -28.142876 ],\n",
       "        [ 115.74491  ,   73.25941  ,   17.841402 ,   27.881687 ,\n",
       "           19.318071 ,   23.917866 ,   20.161655 ,   35.32582  ,\n",
       "           17.993277 ],\n",
       "        [  28.70086  ,   33.531677 ,    4.7385087,   13.3003235,\n",
       "            4.6696253,    6.891186 ,    4.7402506,   12.167971 ,\n",
       "            9.751493 ],\n",
       "        [ -21.943996 ,    0.6731851,   -2.493927 ,   -4.2688174,\n",
       "           -2.494796 ,   -3.1439736,   -4.1078534,   -1.5874348,\n",
       "           -1.7532332],\n",
       "        [  53.07267  ,   26.22287  ,    8.024763 ,   13.859955 ,\n",
       "            7.663022 ,   10.965383 ,    8.40477  ,   14.717553 ,\n",
       "            8.031314 ],\n",
       "        [   5.8237967,   55.08526  ,    2.1822042,    8.991854 ,\n",
       "            5.7856693,    7.9529104,    5.267193 ,   18.606174 ,\n",
       "            5.1338243],\n",
       "        [ 211.50674  ,   63.269394 ,   27.338894 ,   36.250263 ,\n",
       "           29.830524 ,   35.04502  ,   29.19287  ,   38.61315  ,\n",
       "           21.79494  ],\n",
       "        [  -0.7785645,   14.292877 ,    2.7440088,    4.524828 ,\n",
       "            1.8537835,    2.1948998,    2.221321 ,    3.9328184,\n",
       "            1.1530097],\n",
       "        [ -69.41618  ,  -96.26382  ,  -11.264373 ,  -28.694109 ,\n",
       "          -14.8941345,  -18.795586 ,  -13.986346 ,  -34.198227 ,\n",
       "          -15.639009 ],\n",
       "        [-149.06067  ,  -30.952263 ,  -21.499365 ,  -22.21182  ,\n",
       "          -21.095732 ,  -26.27847  ,  -23.317125 ,  -29.414759 ,\n",
       "          -17.12919  ]], dtype=float32)}"
      ]
     },
     "execution_count": 38,
     "metadata": {},
     "output_type": "execute_result"
    }
   ],
   "source": [
    "dict_A"
   ]
  },
  {
   "cell_type": "code",
   "execution_count": 39,
   "metadata": {},
   "outputs": [],
   "source": [
    "# dict_p_cluster_asso_chain"
   ]
  },
  {
   "cell_type": "code",
   "execution_count": 40,
   "metadata": {},
   "outputs": [],
   "source": [
    "#try 2"
   ]
  },
  {
   "cell_type": "code",
   "execution_count": 41,
   "metadata": {},
   "outputs": [],
   "source": [
    "num_clusters = dict_num_clusters\n",
    "\n",
    "#for every \"p\" cluster\n",
    "dict_d_clust_num = dict_entity_cluster_info[\"d\"][\"num\"]\n",
    "dict_r_clust_num = dict_entity_cluster_info[\"r\"][\"num\"]\n",
    "dict_p_clust_num = dict_entity_cluster_info[\"p\"][\"num\"]\n",
    "#\n",
    "dict_cc1 = {}\n",
    "for d_clust_id in np.arange(num_clusters[\"d\"]):\n",
    "    if dict_d_clust_num[d_clust_id] > 0:\n",
    "        #dr\n",
    "        if is_abs_A:\n",
    "            A_dr_temp = dict_A[\"X_rd\"].T\n",
    "            scaler1 = StandardScaler()\n",
    "            A_dr_temp = np.abs(scaler1.fit_transform(A_dr_temp))\n",
    "        else:\n",
    "            A_dr_temp = dict_A[\"X_rd\"].T\n",
    "            scaler1 = StandardScaler()\n",
    "            A_dr_temp = scaler1.fit_transform(A_dr_temp)\n",
    "        r_clust_id_list = list(np.argsort(A_dr_temp[d_clust_id,:]))\n",
    "        r_clust_id_list.reverse()\n",
    "        for temp_r_id in r_clust_id_list:\n",
    "            if dict_r_clust_num[temp_r_id] > 0:\n",
    "                r_clust_id = temp_r_id\n",
    "                break\n",
    "    dict_cc1[d_clust_id] = {\"d\":d_clust_id, \"r\":r_clust_id}\n",
    "\n",
    "dict_cc2 = {}\n",
    "for d_clust_id in np.arange(num_clusters[\"d\"]):\n",
    "    if dict_d_clust_num[d_clust_id] > 0:\n",
    "        #dp\n",
    "        if is_abs_A:\n",
    "            #A_dp_temp = np.abs(dict_A[\"X_pd\"].T)\n",
    "            A_dp_temp = dict_A[\"X_pd\"].T\n",
    "            scaler1 = StandardScaler()\n",
    "            A_dp_temp = np.abs(scaler1.fit_transform(A_dp_temp))\n",
    "        else:\n",
    "            A_dp_temp = dict_A[\"X_pd\"].T\n",
    "            scaler1 = StandardScaler()\n",
    "            A_dp_temp = scaler1.fit_transform(A_dp_temp)\n",
    "        p_clust_id_list = list(np.argsort(A_dp_temp[d_clust_id,:]))\n",
    "        p_clust_id_list.reverse()\n",
    "        for temp_p_id in p_clust_id_list:\n",
    "            if dict_p_clust_num[temp_p_id] > 0:\n",
    "                p_clust_id = temp_p_id\n",
    "                break        \n",
    "        #pr\n",
    "        if is_abs_A:\n",
    "            A_pr_temp = dict_A[\"X_pr\"]\n",
    "            scaler1 = StandardScaler()\n",
    "            A_pr_temp = np.abs(scaler1.fit_transform(A_pr_temp))\n",
    "        else:\n",
    "            A_pr_temp = dict_A[\"X_pr\"]\n",
    "            scaler1 = StandardScaler()\n",
    "            A_pr_temp = scaler1.fit_transform(A_pr_temp)\n",
    "        #A_pr_temp = dict_A[\"X_pr\"]\n",
    "        r_clust_id_list = list(np.argsort(A_pr_temp[p_clust_id,:]))\n",
    "        r_clust_id_list.reverse()\n",
    "        for temp_r_id in r_clust_id_list:\n",
    "            if dict_r_clust_num[temp_r_id] > 0:\n",
    "                r_clust_id = temp_r_id\n",
    "                break\n",
    "    dict_cc2[d_clust_id] = {\"d\":d_clust_id,\"p\":p_clust_id, \"r\":r_clust_id}        "
   ]
  },
  {
   "cell_type": "code",
   "execution_count": 42,
   "metadata": {},
   "outputs": [
    {
     "data": {
      "text/plain": [
       "{0: {'d': 0, 'r': 6},\n",
       " 1: {'d': 1, 'r': 5},\n",
       " 2: {'d': 2, 'r': 8},\n",
       " 3: {'d': 3, 'r': 9},\n",
       " 4: {'d': 4, 'r': 8},\n",
       " 5: {'d': 5, 'r': 8},\n",
       " 6: {'d': 6, 'r': 0},\n",
       " 7: {'d': 7, 'r': 3},\n",
       " 8: {'d': 8, 'r': 8}}"
      ]
     },
     "execution_count": 42,
     "metadata": {},
     "output_type": "execute_result"
    }
   ],
   "source": [
    "dict_cc1"
   ]
  },
  {
   "cell_type": "code",
   "execution_count": 43,
   "metadata": {},
   "outputs": [
    {
     "data": {
      "text/plain": [
       "{0: {'d': 0, 'p': 1, 'r': 8},\n",
       " 1: {'d': 1, 'p': 0, 'r': 3},\n",
       " 2: {'d': 2, 'p': 2, 'r': 7},\n",
       " 3: {'d': 3, 'p': 3, 'r': 3},\n",
       " 4: {'d': 4, 'p': 4, 'r': 5},\n",
       " 5: {'d': 5, 'p': 0, 'r': 3},\n",
       " 6: {'d': 6, 'p': 0, 'r': 3},\n",
       " 7: {'d': 7, 'p': 0, 'r': 3},\n",
       " 8: {'d': 8, 'p': 1, 'r': 8}}"
      ]
     },
     "execution_count": 43,
     "metadata": {},
     "output_type": "execute_result"
    }
   ],
   "source": [
    "dict_cc2"
   ]
  },
  {
   "cell_type": "code",
   "execution_count": 44,
   "metadata": {},
   "outputs": [],
   "source": [
    "# for temp in dict_cc1.keys():\n",
    "#     dict_cc1[temp].update(dict_cc2[temp])"
   ]
  },
  {
   "cell_type": "code",
   "execution_count": 45,
   "metadata": {},
   "outputs": [],
   "source": [
    "# dict_temp_cc1 = dict_cc1"
   ]
  },
  {
   "cell_type": "code",
   "execution_count": 46,
   "metadata": {},
   "outputs": [
    {
     "name": "stdout",
     "output_type": "stream",
     "text": [
      "cur_d:  0 , cur_r:  6 , cur_p:  1\n",
      "cur_d:  1 , cur_r:  5 , cur_p:  0\n",
      "cur_d:  2 , cur_r:  8 , cur_p:  2\n",
      "cur_d:  3 , cur_r:  9 , cur_p:  3\n",
      "cur_d:  4 , cur_r:  8 , cur_p:  4\n",
      "cur_d:  5 , cur_r:  8 , cur_p:  0\n",
      "cur_d:  6 , cur_r:  0 , cur_p:  0\n",
      "cur_d:  7 , cur_r:  3 , cur_p:  0\n",
      "cur_d:  8 , cur_r:  8 , cur_p:  1\n"
     ]
    }
   ],
   "source": [
    "dict_temp_cc_d = {}\n",
    "for temp_key in dict_cc1.keys():\n",
    "    temp = {}\n",
    "    cur_d = dict_cc1[temp_key][\"d\"]\n",
    "    cur_r = dict_cc1[temp_key][\"r\"]\n",
    "    temp[\"d\"] = cur_d\n",
    "    temp[\"r\"] = cur_r\n",
    "    for temp_key_2 in dict_cc2.keys():\n",
    "        if cur_d == dict_cc2[temp_key_2][\"d\"]:\n",
    "            cur_p = dict_cc2[temp_key_2][\"p\"]\n",
    "            print(\"cur_d: \",cur_d,\", cur_r: \",cur_r,\", cur_p: \",cur_p)\n",
    "            temp[\"p\"] = cur_p\n",
    "            dict_temp_cc_d[temp_key] = temp"
   ]
  },
  {
   "cell_type": "code",
   "execution_count": 47,
   "metadata": {},
   "outputs": [
    {
     "data": {
      "text/plain": [
       "{0: {'d': 0, 'r': 6, 'p': 1},\n",
       " 1: {'d': 1, 'r': 5, 'p': 0},\n",
       " 2: {'d': 2, 'r': 8, 'p': 2},\n",
       " 3: {'d': 3, 'r': 9, 'p': 3},\n",
       " 4: {'d': 4, 'r': 8, 'p': 4},\n",
       " 5: {'d': 5, 'r': 8, 'p': 0},\n",
       " 6: {'d': 6, 'r': 0, 'p': 0},\n",
       " 7: {'d': 7, 'r': 3, 'p': 0},\n",
       " 8: {'d': 8, 'r': 8, 'p': 1}}"
      ]
     },
     "execution_count": 47,
     "metadata": {},
     "output_type": "execute_result"
    }
   ],
   "source": [
    "dict_temp_cc_d"
   ]
  },
  {
   "cell_type": "code",
   "execution_count": 48,
   "metadata": {},
   "outputs": [],
   "source": [
    "num_clusters = dict_num_clusters\n",
    "\n",
    "#for every \"p\" cluster\n",
    "dict_d_clust_num = dict_entity_cluster_info[\"d\"][\"num\"]\n",
    "dict_r_clust_num = dict_entity_cluster_info[\"r\"][\"num\"]\n",
    "dict_p_clust_num = dict_entity_cluster_info[\"p\"][\"num\"]\n",
    "#\n",
    "dict_cc3 = {}\n",
    "for r_clust_id in np.arange(num_clusters[\"r\"]):\n",
    "    if dict_r_clust_num[r_clust_id] > 0:\n",
    "        #rs\n",
    "        if is_abs_A:\n",
    "            A_rd_temp = dict_A[\"X_rd\"]\n",
    "            scaler1 = StandardScaler()\n",
    "            A_rd_temp = np.abs(scaler1.fit_transform(A_rd_temp))\n",
    "        else:\n",
    "            A_rd_temp = dict_A[\"X_rd\"]\n",
    "            scaler1 = StandardScaler()\n",
    "            A_rd_temp = scaler1.fit_transform(A_rd_temp)\n",
    "        d_clust_id_list = list(np.argsort(A_rd_temp[r_clust_id,:]))\n",
    "        d_clust_id_list.reverse()\n",
    "        for temp_d_id in d_clust_id_list:\n",
    "            if dict_d_clust_num[temp_d_id] > 0:\n",
    "                d_clust_id = temp_d_id\n",
    "                break\n",
    "    dict_cc3[r_clust_id] = {\"r\":r_clust_id, \"d\":d_clust_id}\n",
    "\n",
    "dict_cc4 = {}\n",
    "for r_clust_id in np.arange(num_clusters[\"r\"]):\n",
    "    if dict_r_clust_num[r_clust_id] > 0:\n",
    "        #rp\n",
    "        if is_abs_A:\n",
    "            A_rp_temp = dict_A[\"X_pr\"].T\n",
    "            scaler1 = StandardScaler()\n",
    "            A_rp_temp = np.abs(scaler1.fit_transform(A_rp_temp))\n",
    "        else:\n",
    "            A_rp_temp = dict_A[\"X_pr\"].T\n",
    "            scaler1 = StandardScaler()\n",
    "            A_rp_temp = scaler1.fit_transform(A_rp_temp)\n",
    "        #A_rp_temp = dict_A[\"X_pr\"].T\n",
    "        p_clust_id_list = list(np.argsort(A_rp_temp[r_clust_id,:]))\n",
    "        p_clust_id_list.reverse()\n",
    "        for temp_p_id in p_clust_id_list:\n",
    "            if dict_p_clust_num[temp_p_id] > 0:\n",
    "                p_clust_id = temp_p_id\n",
    "                break\n",
    "        #pd\n",
    "        if is_abs_A:\n",
    "            A_pd_temp = dict_A[\"X_pd\"]\n",
    "            scaler1 = StandardScaler()\n",
    "            A_pd_temp = np.abs(scaler1.fit_transform(A_pd_temp))\n",
    "        else:\n",
    "            A_pd_temp = dict_A[\"X_pd\"]\n",
    "            scaler1 = StandardScaler()\n",
    "            A_pd_temp = scaler1.fit_transform(A_pd_temp)\n",
    "        d_clust_id_list = list(np.argsort(A_pd_temp[p_clust_id,:]))\n",
    "        d_clust_id_list.reverse()\n",
    "        for temp_d_id in d_clust_id_list:\n",
    "            if dict_d_clust_num[temp_d_id] > 0:\n",
    "                d_clust_id = temp_d_id\n",
    "                break                 \n",
    "    dict_cc4[r_clust_id] = {\"d\":d_clust_id, \"p\":p_clust_id, \"r\":r_clust_id}        "
   ]
  },
  {
   "cell_type": "code",
   "execution_count": 49,
   "metadata": {},
   "outputs": [
    {
     "data": {
      "text/plain": [
       "{0: {'r': 0, 'd': 0},\n",
       " 1: {'r': 1, 'd': 6},\n",
       " 2: {'r': 2, 'd': 8},\n",
       " 3: {'r': 3, 'd': 1},\n",
       " 4: {'r': 4, 'd': 3},\n",
       " 5: {'r': 5, 'd': 1},\n",
       " 6: {'r': 6, 'd': 0},\n",
       " 7: {'r': 7, 'd': 1},\n",
       " 8: {'r': 8, 'd': 0},\n",
       " 9: {'r': 9, 'd': 1}}"
      ]
     },
     "execution_count": 49,
     "metadata": {},
     "output_type": "execute_result"
    }
   ],
   "source": [
    "dict_cc3"
   ]
  },
  {
   "cell_type": "code",
   "execution_count": 50,
   "metadata": {},
   "outputs": [
    {
     "data": {
      "text/plain": [
       "{0: {'d': 2, 'p': 0, 'r': 0},\n",
       " 1: {'d': 2, 'p': 2, 'r': 1},\n",
       " 2: {'d': 3, 'p': 3, 'r': 2},\n",
       " 3: {'d': 2, 'p': 0, 'r': 3},\n",
       " 4: {'d': 4, 'p': 4, 'r': 4},\n",
       " 5: {'d': 2, 'p': 0, 'r': 5},\n",
       " 6: {'d': 2, 'p': 0, 'r': 6},\n",
       " 7: {'d': 2, 'p': 0, 'r': 7},\n",
       " 8: {'d': 0, 'p': 1, 'r': 8},\n",
       " 9: {'d': 2, 'p': 2, 'r': 9}}"
      ]
     },
     "execution_count": 50,
     "metadata": {},
     "output_type": "execute_result"
    }
   ],
   "source": [
    "dict_cc4"
   ]
  },
  {
   "cell_type": "code",
   "execution_count": 51,
   "metadata": {},
   "outputs": [],
   "source": [
    "# for temp in dict_cc3.keys():\n",
    "#     dict_cc3[temp].update(dict_cc4[temp])"
   ]
  },
  {
   "cell_type": "code",
   "execution_count": 52,
   "metadata": {},
   "outputs": [],
   "source": [
    "dict_temp_cc_r = {}\n",
    "for temp_key in dict_cc3.keys():\n",
    "    temp = {}\n",
    "    cur_d = dict_cc3[temp_key][\"d\"]\n",
    "    cur_r = dict_cc3[temp_key][\"r\"]\n",
    "    temp[\"d\"] = cur_d\n",
    "    temp[\"r\"] = cur_r\n",
    "    for temp_key_2 in dict_cc4.keys():\n",
    "        if cur_r == dict_cc4[temp_key_2][\"r\"]:\n",
    "            cur_p = dict_cc4[temp_key_2][\"p\"]\n",
    "            temp[\"p\"] = cur_p\n",
    "            dict_temp_cc_r[temp_key] = temp"
   ]
  },
  {
   "cell_type": "code",
   "execution_count": 53,
   "metadata": {},
   "outputs": [
    {
     "data": {
      "text/plain": [
       "{0: {'d': 0, 'r': 6, 'p': 1},\n",
       " 1: {'d': 1, 'r': 5, 'p': 0},\n",
       " 2: {'d': 2, 'r': 8, 'p': 2},\n",
       " 3: {'d': 3, 'r': 9, 'p': 3},\n",
       " 4: {'d': 4, 'r': 8, 'p': 4},\n",
       " 5: {'d': 5, 'r': 8, 'p': 0},\n",
       " 6: {'d': 6, 'r': 0, 'p': 0},\n",
       " 7: {'d': 7, 'r': 3, 'p': 0},\n",
       " 8: {'d': 8, 'r': 8, 'p': 1}}"
      ]
     },
     "execution_count": 53,
     "metadata": {},
     "output_type": "execute_result"
    }
   ],
   "source": [
    "dict_temp_cc_d"
   ]
  },
  {
   "cell_type": "code",
   "execution_count": 54,
   "metadata": {},
   "outputs": [
    {
     "data": {
      "text/plain": [
       "{0: {'d': 0, 'r': 0, 'p': 0},\n",
       " 1: {'d': 6, 'r': 1, 'p': 2},\n",
       " 2: {'d': 8, 'r': 2, 'p': 3},\n",
       " 3: {'d': 1, 'r': 3, 'p': 0},\n",
       " 4: {'d': 3, 'r': 4, 'p': 4},\n",
       " 5: {'d': 1, 'r': 5, 'p': 0},\n",
       " 6: {'d': 0, 'r': 6, 'p': 0},\n",
       " 7: {'d': 1, 'r': 7, 'p': 0},\n",
       " 8: {'d': 0, 'r': 8, 'p': 1},\n",
       " 9: {'d': 1, 'r': 9, 'p': 2}}"
      ]
     },
     "execution_count": 54,
     "metadata": {},
     "output_type": "execute_result"
    }
   ],
   "source": [
    "dict_temp_cc_r"
   ]
  },
  {
   "cell_type": "code",
   "execution_count": 55,
   "metadata": {},
   "outputs": [],
   "source": [
    "# dict_temp_cc = {}\n",
    "# count = 0\n",
    "# for temp_key in dict_temp_cc1.keys():\n",
    "#     dict_temp_cc[count] = dict_temp_cc1[temp_key]\n",
    "#     count+=1\n",
    "# for temp_key in dict_temp_cc2.keys():\n",
    "#     dict_temp_cc[count] = dict_temp_cc2[temp_key]\n",
    "#     count+=1    "
   ]
  },
  {
   "cell_type": "code",
   "execution_count": 56,
   "metadata": {},
   "outputs": [],
   "source": [
    "if cc_start_entity == \"r\":\n",
    "    dict_temp_cc = dict_temp_cc_r\n",
    "elif cc_start_entity == \"d\":    \n",
    "    dict_temp_cc = dict_temp_cc_d\n",
    "else:\n",
    "    assert False"
   ]
  },
  {
   "cell_type": "code",
   "execution_count": 57,
   "metadata": {},
   "outputs": [],
   "source": [
    "dict_cluster_asso_chain = dict_temp_cc"
   ]
  },
  {
   "cell_type": "code",
   "execution_count": 58,
   "metadata": {},
   "outputs": [
    {
     "data": {
      "text/plain": [
       "{0: {'d': 0, 'r': 6, 'p': 1},\n",
       " 1: {'d': 1, 'r': 5, 'p': 0},\n",
       " 2: {'d': 2, 'r': 8, 'p': 2},\n",
       " 3: {'d': 3, 'r': 9, 'p': 3},\n",
       " 4: {'d': 4, 'r': 8, 'p': 4},\n",
       " 5: {'d': 5, 'r': 8, 'p': 0},\n",
       " 6: {'d': 6, 'r': 0, 'p': 0},\n",
       " 7: {'d': 7, 'r': 3, 'p': 0},\n",
       " 8: {'d': 8, 'r': 8, 'p': 1}}"
      ]
     },
     "execution_count": 58,
     "metadata": {},
     "output_type": "execute_result"
    }
   ],
   "source": [
    "dict_cluster_asso_chain"
   ]
  },
  {
   "cell_type": "code",
   "execution_count": 59,
   "metadata": {},
   "outputs": [],
   "source": [
    "#try 2"
   ]
  },
  {
   "cell_type": "code",
   "execution_count": 60,
   "metadata": {},
   "outputs": [],
   "source": [
    "from sklearn.metrics.pairwise import cosine_distances, cosine_similarity"
   ]
  },
  {
   "cell_type": "code",
   "execution_count": 61,
   "metadata": {},
   "outputs": [],
   "source": [
    "def get_dist(X1, X2):\n",
    "    d_list = np.diag(cosine_distances(X1,X2))\n",
    "    #d = np.sqrt(np.sum(np.round(d_list,4)))\n",
    "    d = np.mean(np.round(d_list,4))\n",
    "    return d "
   ]
  },
  {
   "cell_type": "code",
   "execution_count": 62,
   "metadata": {},
   "outputs": [],
   "source": [
    "def get_dist_subspace(X1, X2, k, is_X1_orth=False, is_X2_orth=False):\n",
    "    k1 = X1.shape[1]\n",
    "    k2 = X2.shape[1]\n",
    "    k = min(k1,k2)\n",
    "    print(\"k1: \",k1,\", k2: \",k2,\", min(k1,k2): \",k)\n",
    "    #\n",
    "    if not is_X1_orth:\n",
    "        u, s, vh = np.linalg.svd(X1)\n",
    "        X1_tilde = u[:,0:k]\n",
    "    if not is_X2_orth:\n",
    "        u, s, vh = np.linalg.svd(X2)\n",
    "        X2_tilde = u[:,0:k]\n",
    "    #\n",
    "    M = np.dot(X1_tilde.T, X2_tilde)\n",
    "    #print(\"M.shape: \",M.shape)\n",
    "    u, s, vh = np.linalg.svd(M)\n",
    "    d = np.sqrt(np.sum(1 - np.round(pow(s,2),4)))\n",
    "    #d = np.mean(1 - np.round(pow(s,2),2))\n",
    "    return d    "
   ]
  },
  {
   "cell_type": "code",
   "execution_count": 63,
   "metadata": {},
   "outputs": [
    {
     "data": {
      "text/plain": [
       "dict_keys(['p_X_pr', 'p_X_pd', 'r_X_pr', 'r_X_rd', 'd_X_rd', 'd_X_pd'])"
      ]
     },
     "execution_count": 63,
     "metadata": {},
     "output_type": "execute_result"
    }
   ],
   "source": [
    "dict_mu.keys()"
   ]
  },
  {
   "cell_type": "code",
   "execution_count": 64,
   "metadata": {},
   "outputs": [],
   "source": [
    "mu_dp = dict_mu[\"d_X_pd\"]\n",
    "mu_rp = dict_mu[\"r_X_pr\"]"
   ]
  },
  {
   "cell_type": "code",
   "execution_count": 65,
   "metadata": {},
   "outputs": [],
   "source": [
    "#X_rd = X_rd\n",
    "X_dr = X_rd.T\n",
    "#X_pr = X_pr\n",
    "X_rp = X_pr.T\n",
    "#X_pd = X_pd\n",
    "X_dp = X_pd.T"
   ]
  },
  {
   "cell_type": "code",
   "execution_count": 66,
   "metadata": {},
   "outputs": [
    {
     "data": {
      "text/plain": [
       "dict_keys(['p_X_pr', 'p_X_pd', 'r_X_pr', 'r_X_rd', 'd_X_rd', 'd_X_pd'])"
      ]
     },
     "execution_count": 66,
     "metadata": {},
     "output_type": "execute_result"
    }
   ],
   "source": [
    "dict_Y_prime.keys()"
   ]
  },
  {
   "cell_type": "code",
   "execution_count": 67,
   "metadata": {},
   "outputs": [],
   "source": [
    "X_rd2 = dict_Y_prime[\"r_X_rd\"]\n",
    "X_dr2 = dict_Y_prime[\"d_X_rd\"]\n",
    "X_pr2 = dict_Y_prime[\"p_X_pr\"]\n",
    "X_rp2 = dict_Y_prime[\"r_X_pr\"]\n",
    "X_pd2 = dict_Y_prime[\"p_X_pd\"]\n",
    "X_dp2 = dict_Y_prime[\"d_X_pd\"]"
   ]
  },
  {
   "cell_type": "code",
   "execution_count": 68,
   "metadata": {},
   "outputs": [],
   "source": [
    "X_rd_prime = dict_X_prime[\"X_rd\"]\n",
    "X_dr_prime = dict_X_prime[\"X_rd\"].T\n",
    "X_pr_prime = dict_X_prime[\"X_pr\"]\n",
    "X_rp_prime = dict_X_prime[\"X_pr\"].T\n",
    "X_pd_prime = dict_X_prime[\"X_pd\"]\n",
    "X_dp_prime = dict_X_prime[\"X_pd\"].T"
   ]
  },
  {
   "cell_type": "code",
   "execution_count": 69,
   "metadata": {},
   "outputs": [
    {
     "data": {
      "text/plain": [
       "dict_keys(['p', 'r', 'd'])"
      ]
     },
     "execution_count": 69,
     "metadata": {},
     "output_type": "execute_result"
    }
   ],
   "source": [
    "dict_entity_cluster_info.keys()"
   ]
  },
  {
   "cell_type": "code",
   "execution_count": 70,
   "metadata": {},
   "outputs": [
    {
     "data": {
      "text/plain": [
       "dict_keys(['d', 'r', 'p'])"
      ]
     },
     "execution_count": 70,
     "metadata": {},
     "output_type": "execute_result"
    }
   ],
   "source": [
    "dict_cluster_asso_chain[0].keys()"
   ]
  },
  {
   "cell_type": "code",
   "execution_count": 71,
   "metadata": {},
   "outputs": [
    {
     "name": "stdout",
     "output_type": "stream",
     "text": [
      "k1:  548 , k2:  38 , min(k1,k2):  38\n",
      "cur_key:  0 | s1:  0.8922 , s2:  1.7518 , s21:  1.0135 , s22:  0.7384 , s3:  5.6712 , score:  -6.5308\n",
      "k1:  4948 , k2:  101 , min(k1,k2):  101\n",
      "cur_key:  1 | s1:  1.3787 , s2:  2.2108 , s21:  0.8861 , s22:  1.3247 , s3:  7.8243 , score:  -8.6565\n",
      "k1:  15 , k2:  22 , min(k1,k2):  15\n",
      "cur_key:  2 | s1:  1.2087 , s2:  0.6788 , s21:  0.2493 , s22:  0.4295 , s3:  0.0 , score:  0.5298\n",
      "k1:  329 , k2:  155 , min(k1,k2):  155\n",
      "cur_key:  3 | s1:  0.9398 , s2:  1.8858 , s21:  0.9548 , s22:  0.931 , s3:  0.0 , score:  -0.9461\n",
      "k1:  50 , k2:  22 , min(k1,k2):  22\n",
      "cur_key:  4 | s1:  0.6195 , s2:  2.6501 , s21:  1.0998 , s22:  1.5503 , s3:  0.0 , score:  -2.0306\n",
      "k1:  4948 , k2:  22 , min(k1,k2):  22\n",
      "cur_key:  5 | s1:  0.4413 , s2:  2.4279 , s21:  0.7456 , s22:  1.6823 , s3:  2.1611 , score:  -4.1477\n",
      "k1:  4948 , k2:  54 , min(k1,k2):  54\n",
      "cur_key:  6 | s1:  0.4345 , s2:  1.8474 , s21:  0.9454 , s22:  0.902 , s3:  0.0 , score:  -1.4129\n",
      "k1:  4948 , k2:  12 , min(k1,k2):  12\n",
      "cur_key:  7 | s1:  1.1289 , s2:  1.958 , s21:  0.9496 , s22:  1.0084 , s3:  2.9306 , score:  -3.7597\n",
      "k1:  548 , k2:  22 , min(k1,k2):  22\n",
      "cur_key:  8 | s1:  0.5465 , s2:  2.5156 , s21:  1.0505 , s22:  1.4651 , s3:  0.0 , score:  -1.9691\n"
     ]
    }
   ],
   "source": [
    "dict_clust_id_score = {}\n",
    "for temp_key in dict_cluster_asso_chain.keys():\n",
    "    dict_cc = dict_cluster_asso_chain[temp_key]\n",
    "    # \n",
    "    p_clust_id = dict_cc[\"p\"]\n",
    "    r_clust_id = dict_cc[\"r\"]\n",
    "    d_clust_id = dict_cc[\"d\"]\n",
    "    #\n",
    "    p_idx_list = dict_entity_cluster_info[\"p\"][\"idx\"][p_clust_id]\n",
    "    r_idx_list = dict_entity_cluster_info[\"r\"][\"idx\"][r_clust_id]\n",
    "    d_idx_list = dict_entity_cluster_info[\"d\"][\"idx\"][d_clust_id]\n",
    "    #\n",
    "#     X_rd_cc = X_rd[r_idx_list,:][:,d_idx_list]\n",
    "#     X_dr_cc = X_dr[d_idx_list,:][:,r_idx_list]\n",
    "#     X_pr_cc = X_pr[p_idx_list,:][:,r_idx_list]\n",
    "#     X_rp_cc = X_rp[r_idx_list,:][:,p_idx_list]\n",
    "#     X_pd_cc = X_pd[p_idx_list,:][:,d_idx_list]\n",
    "#     X_dp_cc = X_dp[d_idx_list,:][:,p_idx_list]\n",
    "    #\n",
    "    X_rd_cc = X_rd2[r_idx_list,:][:,d_idx_list]\n",
    "    X_dr_cc = X_dr2[d_idx_list,:][:,r_idx_list]\n",
    "    X_pr_cc = X_pr2[p_idx_list,:][:,r_idx_list]\n",
    "    X_rp_cc = X_rp2[r_idx_list,:][:,p_idx_list]\n",
    "    X_pd_cc = X_pd2[p_idx_list,:][:,d_idx_list]\n",
    "    X_dp_cc = X_dp2[d_idx_list,:][:,p_idx_list]\n",
    "    #\n",
    "    X_rd_prime_cc = X_rd_prime[r_idx_list,:][:,d_idx_list]\n",
    "    X_dr_prime_cc = X_dr_prime[d_idx_list,:][:,r_idx_list]\n",
    "    X_pr_prime_cc = X_pr_prime[p_idx_list,:][:,r_idx_list]\n",
    "    X_rp_prime_cc = X_rp_prime[r_idx_list,:][:,p_idx_list]\n",
    "    X_pd_prime_cc = X_pd_prime[p_idx_list,:][:,d_idx_list]\n",
    "    X_dp_prime_cc = X_dp_prime[d_idx_list,:][:,p_idx_list]\n",
    "    #\n",
    "    mu_dp_cc = mu_dp[d_idx_list,:]\n",
    "    mu_rp_cc = mu_rp[r_idx_list,:]\n",
    "    #\n",
    "    k = 20\n",
    "    if cc_start_entity == \"r\":\n",
    "        s1 = get_dist(X_rd_cc, X_rd_prime_cc)\n",
    "        s21 = get_dist(X_rp_cc, X_rp_prime_cc)\n",
    "        s22 = get_dist(X_pd_cc, X_pd_prime_cc)\n",
    "        s2 = s21 + s22 \n",
    "        s3 = get_dist_subspace(X_rp_cc, X_rd_prime_cc, k)\n",
    "        #s3 = get_dist_subspace(mu_rp_cc, X_rd_prime_cc, k)\n",
    "    elif cc_start_entity == \"d\":\n",
    "        s1 = get_dist(X_dr_cc, X_dr_prime_cc)\n",
    "        s21 = get_dist(X_dp_cc, X_dp_prime_cc)\n",
    "        s22 = get_dist(X_pr_cc, X_pr_prime_cc)\n",
    "        s2 = s21 + s22\n",
    "        s3 = get_dist_subspace(X_dp_cc, X_dr_prime_cc, k)\n",
    "        #s3 = get_dist_subspace(mu_dp_cc, X_dr_prime_cc, k)  \n",
    "    #\n",
    "    alpha = 1.0\n",
    "    beta = 1.0\n",
    "    gamma = 1.0\n",
    "    cur_score = (alpha * s1) - (beta * s2) - (gamma * s3)\n",
    "    #cur_score = (alpha * s1) + (beta * (1-s2)) + (gamma * (1-s3))\n",
    "    dict_clust_id_score[temp_key] = cur_score\n",
    "    print(\"cur_key: \",temp_key,\"| s1: \",np.round(s1,4),\", s2: \",np.round(s2,4),\", s21: \",np.round(s21,4),\", s22: \",np.round(s22,4),\", s3: \",np.round(s3,4),\", score: \",np.round(cur_score,4))"
   ]
  },
  {
   "cell_type": "code",
   "execution_count": 72,
   "metadata": {},
   "outputs": [
    {
     "data": {
      "text/plain": [
       "{0: -6.530826210975647,\n",
       " 1: -8.656460881233215,\n",
       " 2: 0.5298349261283875,\n",
       " 3: -0.9460525512695312,\n",
       " 4: -2.0306090712547302,\n",
       " 5: -4.147712886333466,\n",
       " 6: -1.412877470254898,\n",
       " 7: -3.7596726417541504,\n",
       " 8: -1.9690729975700378}"
      ]
     },
     "execution_count": 72,
     "metadata": {},
     "output_type": "execute_result"
    }
   ],
   "source": [
    "dict_clust_id_score"
   ]
  },
  {
   "cell_type": "code",
   "execution_count": 73,
   "metadata": {},
   "outputs": [
    {
     "name": "stdout",
     "output_type": "stream",
     "text": [
      "max_key:  2\n",
      "max score: 0.5298349261283875\n"
     ]
    }
   ],
   "source": [
    "keys_list = list(dict_clust_id_score.keys())\n",
    "#val_list = np.abs(list(dict_clust_id_score.values()))\n",
    "val_list = list(dict_clust_id_score.values())\n",
    "max_score_clust_id = keys_list[np.argmax(val_list)]\n",
    "max_cc = max_score_clust_id\n",
    "print(\"max_key: \",max_score_clust_id)\n",
    "print(\"max score:\",dict_clust_id_score[max_score_clust_id])"
   ]
  },
  {
   "cell_type": "code",
   "execution_count": 74,
   "metadata": {},
   "outputs": [
    {
     "name": "stdout",
     "output_type": "stream",
     "text": [
      "min_key:  1\n",
      "min score: -8.656460881233215\n"
     ]
    }
   ],
   "source": [
    "keys_list = list(dict_clust_id_score.keys())\n",
    "val_list = list(np.array(list(dict_clust_id_score.values())) * -1)\n",
    "#val_list = np.abs(list(dict_clust_id_score.values())) * -1\n",
    "max_score_clust_id = keys_list[np.argmax(val_list)]\n",
    "min_cc = max_score_clust_id\n",
    "print(\"min_key: \",max_score_clust_id)\n",
    "print(\"min score:\",dict_clust_id_score[max_score_clust_id])"
   ]
  },
  {
   "cell_type": "code",
   "execution_count": 75,
   "metadata": {},
   "outputs": [
    {
     "data": {
      "text/plain": [
       "dict_keys(['matrices_data', 'metadata', 'gt_case1_part'])"
      ]
     },
     "execution_count": 75,
     "metadata": {},
     "output_type": "execute_result"
    }
   ],
   "source": [
    "data_dict.keys()"
   ]
  },
  {
   "cell_type": "code",
   "execution_count": 76,
   "metadata": {},
   "outputs": [],
   "source": [
    "def get_overlap_percent(dict_entity_cluster_info,e_id,e_clust_id,case_no=1):\n",
    "    if e_id in [\"s\",\"t\"]:\n",
    "        p_cur_idx = list(dict_entity_cluster_info[\"d\"]['idx'][e_clust_id])\n",
    "    else:\n",
    "        p_cur_idx = list(dict_entity_cluster_info[e_id]['idx'][e_clust_id])\n",
    "    p_gt_of_idx = data_dict[\"gt_case\"+str(case_no)+\"_part\"][e_id+\"_unknown_idx_list\"] #gt_case1_part\n",
    "    #p_gt_of_idx = data_dict[\"e_unknown_cluster_idx_perm\"][e_id]\n",
    "    p_overlap_idx = list(set(p_cur_idx).intersection(set(p_gt_of_idx)))\n",
    "    p_per = np.round((len(p_overlap_idx)/len(p_gt_of_idx))*100.0,2)    \n",
    "    return p_per\n",
    "\n",
    "# dname_data2 = \"C:\\\\Users\\\\mragu\\\\Documents\\\\heuristic\\\\NSIDES\\\\data\\\\adr_mimic_nsides\\\\\"\n",
    "# fname_data2 = dname_data2+\"dict_nsides_mimic_data_v1.pkl\"\n",
    "# data_dict2 = pkl.load(open(fname_data2,\"rb\"))\n",
    "\n",
    "# def get_overlap_percent2(dict_entity_cluster_info,e_id,e_clust_id,data_dict,case_no=2):\n",
    "#     if e_id in [\"s\",\"t\"]:\n",
    "#         p_cur_idx = list(dict_entity_cluster_info[\"d\"]['idx'][e_clust_id])\n",
    "#     else:\n",
    "#         p_cur_idx = list(dict_entity_cluster_info[e_id]['idx'][e_clust_id])\n",
    "#     p_gt_of_idx = data_dict[\"gt_case\"+str(case_no)][e_id+\"_unknown_idx_list\"] #gt_case1_part\n",
    "#     #p_gt_of_idx = data_dict[\"e_unknown_cluster_idx_perm\"][e_id]\n",
    "#     p_overlap_idx = list(set(p_cur_idx).intersection(set(p_gt_of_idx)))\n",
    "#     p_per = np.round((len(p_overlap_idx)/len(p_gt_of_idx))*100.0,2)    \n",
    "#     return p_per"
   ]
  },
  {
   "cell_type": "code",
   "execution_count": 77,
   "metadata": {},
   "outputs": [
    {
     "data": {
      "text/plain": [
       "dict_keys([0, 1, 2, 3, 4, 5, 6, 7, 8])"
      ]
     },
     "execution_count": 77,
     "metadata": {},
     "output_type": "execute_result"
    }
   ],
   "source": [
    "dict_cluster_asso_chain.keys()"
   ]
  },
  {
   "cell_type": "code",
   "execution_count": 78,
   "metadata": {},
   "outputs": [
    {
     "data": {
      "text/plain": [
       "dict_keys(['d', 'r', 'p'])"
      ]
     },
     "execution_count": 78,
     "metadata": {},
     "output_type": "execute_result"
    }
   ],
   "source": [
    "dict_cluster_asso_chain[0].keys()"
   ]
  },
  {
   "cell_type": "code",
   "execution_count": 79,
   "metadata": {},
   "outputs": [
    {
     "data": {
      "text/plain": [
       "0.0"
      ]
     },
     "execution_count": 79,
     "metadata": {},
     "output_type": "execute_result"
    }
   ],
   "source": [
    "get_overlap_percent(dict_entity_cluster_info,\"s\",d_clust_id)"
   ]
  },
  {
   "cell_type": "code",
   "execution_count": 80,
   "metadata": {},
   "outputs": [],
   "source": [
    "dict_result1 = {}\n",
    "for temp_key in dict_cluster_asso_chain.keys():\n",
    "    temp_res_dict = {}\n",
    "    #\n",
    "    p_clust_id = dict_cluster_asso_chain[temp_key][\"p\"]\n",
    "    r_clust_id = dict_cluster_asso_chain[temp_key][\"r\"]\n",
    "    s_clust_id = dict_cluster_asso_chain[temp_key][\"d\"]\n",
    "    t_clust_id = dict_cluster_asso_chain[temp_key][\"d\"]\n",
    "    #\n",
    "    p_clust_size = dict_entity_cluster_info[\"p\"]['num'][p_clust_id]\n",
    "    r_clust_size = dict_entity_cluster_info[\"r\"]['num'][r_clust_id]\n",
    "    s_clust_size = dict_entity_cluster_info[\"d\"]['num'][s_clust_id]\n",
    "    t_clust_size = dict_entity_cluster_info[\"d\"]['num'][t_clust_id]\n",
    "    #\n",
    "    p_overlap_per = get_overlap_percent(dict_entity_cluster_info,\"p\",p_clust_id)\n",
    "    r_overlap_per = get_overlap_percent(dict_entity_cluster_info,\"r\",r_clust_id)\n",
    "    s_overlap_per = get_overlap_percent(dict_entity_cluster_info,\"s\",s_clust_id)\n",
    "    t_overlap_per = get_overlap_percent(dict_entity_cluster_info,\"t\",t_clust_id)\n",
    "    #\n",
    "    temp_res_dict[\"p_clust_id\"] = p_clust_id\n",
    "    temp_res_dict[\"r_clust_id\"] = r_clust_id\n",
    "    temp_res_dict[\"s_clust_id\"] = s_clust_id\n",
    "    temp_res_dict[\"t_clust_id\"] = t_clust_id\n",
    "    #\n",
    "    temp_res_dict[\"p_clust_size\"] = p_clust_size\n",
    "    temp_res_dict[\"r_clust_size\"] = r_clust_size\n",
    "    temp_res_dict[\"s_clust_size\"] = s_clust_size\n",
    "    temp_res_dict[\"t_clust_size\"] = t_clust_size\n",
    "    #\n",
    "    temp_res_dict[\"p_overlap_per\"] = p_overlap_per\n",
    "    temp_res_dict[\"r_overlap_per\"] = r_overlap_per\n",
    "    temp_res_dict[\"s_overlap_per\"] = s_overlap_per\n",
    "    temp_res_dict[\"t_overlap_per\"] = t_overlap_per\n",
    "    #\n",
    "    dict_result1[temp_key] = temp_res_dict"
   ]
  },
  {
   "cell_type": "code",
   "execution_count": 81,
   "metadata": {},
   "outputs": [
    {
     "name": "stdout",
     "output_type": "stream",
     "text": [
      "                    0        1      2       3      4        5        6  \\\n",
      "p_clust_id       1.00     0.00   2.00    3.00   4.00     0.00     0.00   \n",
      "r_clust_id       6.00     5.00   8.00    9.00   8.00     8.00     0.00   \n",
      "s_clust_id       0.00     1.00   2.00    3.00   4.00     5.00     6.00   \n",
      "t_clust_id       0.00     1.00   2.00    3.00   4.00     5.00     6.00   \n",
      "p_clust_size   548.00  4948.00  15.00  329.00  50.00  4948.00  4948.00   \n",
      "r_clust_size    38.00   101.00  22.00  155.00  22.00    22.00    54.00   \n",
      "s_clust_size   786.00   330.00  13.00   49.00  20.00    28.00    19.00   \n",
      "t_clust_size   786.00   330.00  13.00   49.00  20.00    28.00    19.00   \n",
      "p_overlap_per    6.78    77.11   0.45   13.10   2.56    77.11    77.11   \n",
      "r_overlap_per   11.86    20.34   3.39   22.03   3.39     3.39     5.08   \n",
      "s_overlap_per   54.29    35.71   1.43    2.86   1.43     2.86     0.00   \n",
      "t_overlap_per   37.50    47.50   2.50    5.00   0.00     5.00     0.00   \n",
      "\n",
      "                     7       8  \n",
      "p_clust_id        0.00    1.00  \n",
      "r_clust_id        3.00    8.00  \n",
      "s_clust_id        7.00    8.00  \n",
      "t_clust_id        7.00    8.00  \n",
      "p_clust_size   4948.00  548.00  \n",
      "r_clust_size     12.00   22.00  \n",
      "s_clust_size     57.00   19.00  \n",
      "t_clust_size     57.00   19.00  \n",
      "p_overlap_per    77.11    6.78  \n",
      "r_overlap_per     3.39    3.39  \n",
      "s_overlap_per     1.43    0.00  \n",
      "t_overlap_per     2.50    0.00  \n",
      "#\n"
     ]
    }
   ],
   "source": [
    "df_result1 = pd.DataFrame(dict_result1)\n",
    "pp.pprint(df_result1)\n",
    "print(\"#\")\n",
    "df_result1 = pd.DataFrame(dict_result1).T\n",
    "#pp.pprint(df_result[[\"p_overlap_per\",\"r_overlap_per\",\"s_overlap_per\",\"t_overlap_per\"]].T)"
   ]
  },
  {
   "cell_type": "code",
   "execution_count": 82,
   "metadata": {},
   "outputs": [],
   "source": [
    "# dict_result2 = {}\n",
    "# for temp_key in dict_cluster_asso_chain.keys():\n",
    "#     temp_res_dict = {}\n",
    "#     #\n",
    "#     p_clust_id = dict_cluster_asso_chain[temp_key][\"p\"]\n",
    "#     r_clust_id = dict_cluster_asso_chain[temp_key][\"r\"]\n",
    "#     s_clust_id = dict_cluster_asso_chain[temp_key][\"d\"]\n",
    "#     t_clust_id = dict_cluster_asso_chain[temp_key][\"d\"]\n",
    "#     #\n",
    "#     p_clust_size = dict_entity_cluster_info[\"p\"]['num'][p_clust_id]\n",
    "#     r_clust_size = dict_entity_cluster_info[\"r\"]['num'][r_clust_id]\n",
    "#     s_clust_size = dict_entity_cluster_info[\"d\"]['num'][s_clust_id]\n",
    "#     t_clust_size = dict_entity_cluster_info[\"d\"]['num'][t_clust_id]\n",
    "#     #\n",
    "#     p_overlap_per = get_overlap_percent2(dict_entity_cluster_info,\"p\",p_clust_id,data_dict2)\n",
    "#     r_overlap_per = get_overlap_percent2(dict_entity_cluster_info,\"r\",r_clust_id,data_dict2)\n",
    "#     s_overlap_per = get_overlap_percent2(dict_entity_cluster_info,\"s\",s_clust_id,data_dict2)\n",
    "#     t_overlap_per = get_overlap_percent2(dict_entity_cluster_info,\"t\",t_clust_id,data_dict2)\n",
    "#     #\n",
    "#     temp_res_dict[\"p_clust_id\"] = p_clust_id\n",
    "#     temp_res_dict[\"r_clust_id\"] = r_clust_id\n",
    "#     temp_res_dict[\"s_clust_id\"] = s_clust_id\n",
    "#     temp_res_dict[\"t_clust_id\"] = t_clust_id\n",
    "#     #\n",
    "#     temp_res_dict[\"p_clust_size\"] = p_clust_size\n",
    "#     temp_res_dict[\"r_clust_size\"] = r_clust_size\n",
    "#     temp_res_dict[\"s_clust_size\"] = s_clust_size\n",
    "#     temp_res_dict[\"t_clust_size\"] = t_clust_size\n",
    "#     #\n",
    "#     temp_res_dict[\"p_overlap_per\"] = p_overlap_per\n",
    "#     temp_res_dict[\"r_overlap_per\"] = r_overlap_per\n",
    "#     temp_res_dict[\"s_overlap_per\"] = s_overlap_per\n",
    "#     temp_res_dict[\"t_overlap_per\"] = t_overlap_per\n",
    "#     #\n",
    "#     dict_result2[temp_key] = temp_res_dict"
   ]
  },
  {
   "cell_type": "code",
   "execution_count": 83,
   "metadata": {},
   "outputs": [],
   "source": [
    "# df_result2 = pd.DataFrame(dict_result2)\n",
    "# pp.pprint(df_result2)\n",
    "# print(\"#\")\n",
    "# df_result2 = pd.DataFrame(dict_result2).T\n",
    "# #pp.pprint(df_result[[\"p_overlap_per\",\"r_overlap_per\",\"s_overlap_per\",\"t_overlap_per\"]].T)"
   ]
  },
  {
   "cell_type": "code",
   "execution_count": 84,
   "metadata": {},
   "outputs": [
    {
     "data": {
      "text/plain": [
       "(2, 1)"
      ]
     },
     "execution_count": 84,
     "metadata": {},
     "output_type": "execute_result"
    }
   ],
   "source": [
    "max_cc,min_cc"
   ]
  },
  {
   "cell_type": "code",
   "execution_count": 85,
   "metadata": {},
   "outputs": [
    {
     "name": "stdout",
     "output_type": "stream",
     "text": [
      "                   0      1     2      3     4      5      6      7     8\n",
      "p_overlap_per   6.78  77.11  0.45  13.10  2.56  77.11  77.11  77.11  6.78\n",
      "r_overlap_per  11.86  20.34  3.39  22.03  3.39   3.39   5.08   3.39  3.39\n",
      "s_overlap_per  54.29  35.71  1.43   2.86  1.43   2.86   0.00   1.43  0.00\n",
      "t_overlap_per  37.50  47.50  2.50   5.00  0.00   5.00   0.00   2.50  0.00\n"
     ]
    }
   ],
   "source": [
    "pp.pprint(df_result1[[\"p_overlap_per\",\"r_overlap_per\",\"s_overlap_per\",\"t_overlap_per\"]].T)"
   ]
  },
  {
   "cell_type": "code",
   "execution_count": 86,
   "metadata": {},
   "outputs": [],
   "source": [
    "#pp.pprint(df_result2[[\"p_overlap_per\",\"r_overlap_per\",\"s_overlap_per\",\"t_overlap_per\"]].T) #computing this, does not make sense"
   ]
  },
  {
   "cell_type": "code",
   "execution_count": 87,
   "metadata": {},
   "outputs": [],
   "source": [
    "#"
   ]
  },
  {
   "cell_type": "code",
   "execution_count": 88,
   "metadata": {},
   "outputs": [
    {
     "data": {
      "text/html": [
       "<div>\n",
       "<style scoped>\n",
       "    .dataframe tbody tr th:only-of-type {\n",
       "        vertical-align: middle;\n",
       "    }\n",
       "\n",
       "    .dataframe tbody tr th {\n",
       "        vertical-align: top;\n",
       "    }\n",
       "\n",
       "    .dataframe thead th {\n",
       "        text-align: right;\n",
       "    }\n",
       "</style>\n",
       "<table border=\"1\" class=\"dataframe\">\n",
       "  <thead>\n",
       "    <tr style=\"text-align: right;\">\n",
       "      <th></th>\n",
       "      <th>0</th>\n",
       "      <th>1</th>\n",
       "      <th>2</th>\n",
       "      <th>3</th>\n",
       "      <th>4</th>\n",
       "      <th>5</th>\n",
       "      <th>6</th>\n",
       "      <th>7</th>\n",
       "      <th>8</th>\n",
       "    </tr>\n",
       "  </thead>\n",
       "  <tbody>\n",
       "    <tr>\n",
       "      <th>p_clust_id</th>\n",
       "      <td>1.00</td>\n",
       "      <td>0.00</td>\n",
       "      <td>2.00</td>\n",
       "      <td>3.00</td>\n",
       "      <td>4.00</td>\n",
       "      <td>0.00</td>\n",
       "      <td>0.00</td>\n",
       "      <td>0.00</td>\n",
       "      <td>1.00</td>\n",
       "    </tr>\n",
       "    <tr>\n",
       "      <th>r_clust_id</th>\n",
       "      <td>6.00</td>\n",
       "      <td>5.00</td>\n",
       "      <td>8.00</td>\n",
       "      <td>9.00</td>\n",
       "      <td>8.00</td>\n",
       "      <td>8.00</td>\n",
       "      <td>0.00</td>\n",
       "      <td>3.00</td>\n",
       "      <td>8.00</td>\n",
       "    </tr>\n",
       "    <tr>\n",
       "      <th>s_clust_id</th>\n",
       "      <td>0.00</td>\n",
       "      <td>1.00</td>\n",
       "      <td>2.00</td>\n",
       "      <td>3.00</td>\n",
       "      <td>4.00</td>\n",
       "      <td>5.00</td>\n",
       "      <td>6.00</td>\n",
       "      <td>7.00</td>\n",
       "      <td>8.00</td>\n",
       "    </tr>\n",
       "    <tr>\n",
       "      <th>t_clust_id</th>\n",
       "      <td>0.00</td>\n",
       "      <td>1.00</td>\n",
       "      <td>2.00</td>\n",
       "      <td>3.00</td>\n",
       "      <td>4.00</td>\n",
       "      <td>5.00</td>\n",
       "      <td>6.00</td>\n",
       "      <td>7.00</td>\n",
       "      <td>8.00</td>\n",
       "    </tr>\n",
       "    <tr>\n",
       "      <th>p_clust_size</th>\n",
       "      <td>548.00</td>\n",
       "      <td>4948.00</td>\n",
       "      <td>15.00</td>\n",
       "      <td>329.00</td>\n",
       "      <td>50.00</td>\n",
       "      <td>4948.00</td>\n",
       "      <td>4948.00</td>\n",
       "      <td>4948.00</td>\n",
       "      <td>548.00</td>\n",
       "    </tr>\n",
       "    <tr>\n",
       "      <th>r_clust_size</th>\n",
       "      <td>38.00</td>\n",
       "      <td>101.00</td>\n",
       "      <td>22.00</td>\n",
       "      <td>155.00</td>\n",
       "      <td>22.00</td>\n",
       "      <td>22.00</td>\n",
       "      <td>54.00</td>\n",
       "      <td>12.00</td>\n",
       "      <td>22.00</td>\n",
       "    </tr>\n",
       "    <tr>\n",
       "      <th>s_clust_size</th>\n",
       "      <td>786.00</td>\n",
       "      <td>330.00</td>\n",
       "      <td>13.00</td>\n",
       "      <td>49.00</td>\n",
       "      <td>20.00</td>\n",
       "      <td>28.00</td>\n",
       "      <td>19.00</td>\n",
       "      <td>57.00</td>\n",
       "      <td>19.00</td>\n",
       "    </tr>\n",
       "    <tr>\n",
       "      <th>t_clust_size</th>\n",
       "      <td>786.00</td>\n",
       "      <td>330.00</td>\n",
       "      <td>13.00</td>\n",
       "      <td>49.00</td>\n",
       "      <td>20.00</td>\n",
       "      <td>28.00</td>\n",
       "      <td>19.00</td>\n",
       "      <td>57.00</td>\n",
       "      <td>19.00</td>\n",
       "    </tr>\n",
       "    <tr>\n",
       "      <th>p_overlap_per</th>\n",
       "      <td>6.78</td>\n",
       "      <td>77.11</td>\n",
       "      <td>0.45</td>\n",
       "      <td>13.10</td>\n",
       "      <td>2.56</td>\n",
       "      <td>77.11</td>\n",
       "      <td>77.11</td>\n",
       "      <td>77.11</td>\n",
       "      <td>6.78</td>\n",
       "    </tr>\n",
       "    <tr>\n",
       "      <th>r_overlap_per</th>\n",
       "      <td>11.86</td>\n",
       "      <td>20.34</td>\n",
       "      <td>3.39</td>\n",
       "      <td>22.03</td>\n",
       "      <td>3.39</td>\n",
       "      <td>3.39</td>\n",
       "      <td>5.08</td>\n",
       "      <td>3.39</td>\n",
       "      <td>3.39</td>\n",
       "    </tr>\n",
       "    <tr>\n",
       "      <th>s_overlap_per</th>\n",
       "      <td>54.29</td>\n",
       "      <td>35.71</td>\n",
       "      <td>1.43</td>\n",
       "      <td>2.86</td>\n",
       "      <td>1.43</td>\n",
       "      <td>2.86</td>\n",
       "      <td>0.00</td>\n",
       "      <td>1.43</td>\n",
       "      <td>0.00</td>\n",
       "    </tr>\n",
       "    <tr>\n",
       "      <th>t_overlap_per</th>\n",
       "      <td>37.50</td>\n",
       "      <td>47.50</td>\n",
       "      <td>2.50</td>\n",
       "      <td>5.00</td>\n",
       "      <td>0.00</td>\n",
       "      <td>5.00</td>\n",
       "      <td>0.00</td>\n",
       "      <td>2.50</td>\n",
       "      <td>0.00</td>\n",
       "    </tr>\n",
       "  </tbody>\n",
       "</table>\n",
       "</div>"
      ],
      "text/plain": [
       "                    0        1      2       3      4        5        6  \\\n",
       "p_clust_id       1.00     0.00   2.00    3.00   4.00     0.00     0.00   \n",
       "r_clust_id       6.00     5.00   8.00    9.00   8.00     8.00     0.00   \n",
       "s_clust_id       0.00     1.00   2.00    3.00   4.00     5.00     6.00   \n",
       "t_clust_id       0.00     1.00   2.00    3.00   4.00     5.00     6.00   \n",
       "p_clust_size   548.00  4948.00  15.00  329.00  50.00  4948.00  4948.00   \n",
       "r_clust_size    38.00   101.00  22.00  155.00  22.00    22.00    54.00   \n",
       "s_clust_size   786.00   330.00  13.00   49.00  20.00    28.00    19.00   \n",
       "t_clust_size   786.00   330.00  13.00   49.00  20.00    28.00    19.00   \n",
       "p_overlap_per    6.78    77.11   0.45   13.10   2.56    77.11    77.11   \n",
       "r_overlap_per   11.86    20.34   3.39   22.03   3.39     3.39     5.08   \n",
       "s_overlap_per   54.29    35.71   1.43    2.86   1.43     2.86     0.00   \n",
       "t_overlap_per   37.50    47.50   2.50    5.00   0.00     5.00     0.00   \n",
       "\n",
       "                     7       8  \n",
       "p_clust_id        0.00    1.00  \n",
       "r_clust_id        3.00    8.00  \n",
       "s_clust_id        7.00    8.00  \n",
       "t_clust_id        7.00    8.00  \n",
       "p_clust_size   4948.00  548.00  \n",
       "r_clust_size     12.00   22.00  \n",
       "s_clust_size     57.00   19.00  \n",
       "t_clust_size     57.00   19.00  \n",
       "p_overlap_per    77.11    6.78  \n",
       "r_overlap_per     3.39    3.39  \n",
       "s_overlap_per     1.43    0.00  \n",
       "t_overlap_per     2.50    0.00  "
      ]
     },
     "execution_count": 88,
     "metadata": {},
     "output_type": "execute_result"
    }
   ],
   "source": [
    "df_result1.T"
   ]
  },
  {
   "cell_type": "code",
   "execution_count": 89,
   "metadata": {},
   "outputs": [
    {
     "data": {
      "text/plain": [
       "{'p': 664, 'r': 59, 's': 70, 't': 40}"
      ]
     },
     "execution_count": 89,
     "metadata": {},
     "output_type": "execute_result"
    }
   ],
   "source": [
    "data_dict[\"gt_case1_part\"][\"dict_gt_entity_size\"]"
   ]
  },
  {
   "cell_type": "code",
   "execution_count": null,
   "metadata": {},
   "outputs": [],
   "source": []
  },
  {
   "cell_type": "code",
   "execution_count": null,
   "metadata": {},
   "outputs": [],
   "source": []
  }
 ],
 "metadata": {
  "kernelspec": {
   "display_name": "Python 3",
   "language": "python",
   "name": "python3"
  },
  "language_info": {
   "codemirror_mode": {
    "name": "ipython",
    "version": 3
   },
   "file_extension": ".py",
   "mimetype": "text/x-python",
   "name": "python",
   "nbconvert_exporter": "python",
   "pygments_lexer": "ipython3",
   "version": "3.7.6"
  }
 },
 "nbformat": 4,
 "nbformat_minor": 4
}
